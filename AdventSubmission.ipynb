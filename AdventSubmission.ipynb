{
 "cells": [
  {
   "cell_type": "markdown",
   "metadata": {
    "dotnet_interactive": {
     "language": "fsharp"
    }
   },
   "source": [
    "# Perf Avore: A Rule Based Performance Analysis and Monitoring Tool in FSharp\n",
    "\n",
    "For my 2021 F# Advent Submission (5 years of submissions!!!!), I developed a Performance Based Monitoring and Analysis Tool called \"_Perf-Avore_\" that applies user specified __Rules__ that consists of __Conditions__ to match based on Trace Events from either an .ETL trace or a real time session and if the conditions are met, __Actions__ specified in the rule are invoked. Different types of conditions could include to check if the trace event property is an anomaly i.e. a deviant point based on an anomaly detection algorithm or is simply above a threshold value specified in the rule. Similarly, different actions could be specified that lead to different outputs such as printing out the callstacks, charting the data point or just simply alerting the user that a condition is met.  \n",
    "\n",
    "The __purpose__ of Perf Avore is to provide users an easy and configurable way to detect and diagnose performance issues effectively by specifying details that are pertinent to performance issues in the rule itself. A use case, for example, is detecting spikes in memory allocations that can put unwanted pressure on the Garbage Collector and inevitably slow down the process. By specifying a rule that tracks ``AllocationAmount`` on the ``GC/AllocationTick`` event if it goes above a specified amount and then printing out the callstack for it can shed light on the impetus behind the increased pressure.\n",
    "\n",
    "## High Level Overview\n",
    "\n",
    "![High Level Idea](Images/HighlevelIdea.png)\n",
    "\n",
    "1. Users provide rules.\n",
    "   1. Rules consist of conditions and actions.\n",
    "   2. Conditions Include: \n",
    "      1. The Name of the Trace Event and the property they'd like to track. \n",
    "      2. The condition or case for which they'd like to act on.\n",
    "2. Trace Events are proffered to the rules engine to apply the rules to.\n",
    "3. Based on either a given trace or by real time monitoring, conditions are checked for and actions are invoked based on a stream of trace events.\n",
    "4. Examples of Rules:\n",
    "   1. ``GC/AllocationTick.AllocationAmount > 200000 : Print Alert``\n",
    "   2. ``ThreadPoolWorkerThreadAdjustment/Stats.Throughput < 4 : Print CallStack``\n",
    "   3. ``GC/HeapStats.GenerationSize0 isAnomaly DetectIIDSpike : Print Chart``\n",
    "\n",
    "The code is available [here](https://github.com/MokoSan/FSharpAdvent_2021/tree/main/src/PerfAvore/PerfAvore.Console). To directly jump into the details without much ado, scroll down to the __Plan__ section.  \n",
    "\n",
    "## Experience Developing in FSharp \n",
    "\n",
    "F#, once again, didn't fail to deliver an incredible development experience! \n",
    "Despite not developing in F# for an extended period of time (much to my regret - I kicked myself about this during last year's [submission](https://bit.ly/3hhhRjq) as well), I was able to let the muscle memory from my previous projects kick in and reached a productive state surprisingly quickly; I'd like to underscore that this is more of a testament to the ease of usage of the language speaking volumes about the user-friendly nature of the language itself (and not necessarily my some-what-sophomoric acumen). \n",
    "\n",
    "Granted, I didn't make use of all the bells and whistles the language had to offer, what I did make use of was damn easy to get stuff done with. \n",
    "The particular aspects of the language that made it easy to develop a Domain Specific Language, a parser for that domain specific language and dynamic application of the actions are Pattern Matching and Immutable Functional Data Structures such as Records and Discriminated Unions that make expressing the domain succinctly and lucidly not only for the developer but also the reader.\n",
    "\n",
    "An image that typifies the incredibly accessible nature of F# is the following one filched from a presentation by [Don Syme](https://twitter.com/dsymetweets) and [Kathleen Dollard](https://twitter.com/KathleenDollard) during this year's .NET Conf in November:\n",
    "\n",
    "![Why FSharp](Images/WhyFSharp.jpg)\n",
    "\n",
    "## Inspiration For the Project\n",
    "\n",
    "Perf Avore was heavily inspired by [maoni0's](https://twitter.com/maoni0) [realmon](https://github.com/Maoni0/realmon), a monitoring tool that tells you when GCs happen in a process and some characteristics about these GCs. My contributions and associated interactions for realmon definitely were incredibly instrumental in coming up with the idea and it's implementation.\n",
    "\n",
    "Additionally, as a Perf Engineer, I find that there are times where I need to arduously load traces in Perf View, resolve symbols and wait until all the windows open up to do basic things such as look up a single call stack for a single event or look up the payload value of a single event. By devising a simpler solution, I wish to reduce my perf investigation time as I build on this project.\n",
    "\n",
    "Now that a basic overview and other auxiliary topics have been covered, without much more ceremony, I'll be diving into how I built Perf Avore. \n",
    "\n",
    "## Plan\n",
    "\n",
    "The plan to get rule applications working is threefold:\n",
    "\n",
    "1. __Parse Rules__: Convert the user inputted string based rules to a domain defined Rule.\n",
    "2. __Process Trace Events__: Retrieve trace events from either a trace or a real time process.\n",
    "3. __Apply Rules__: If the conditions of a rule are met, invoke the action associated with the rule.\n",
    "\n",
    "![Birds Eye View](Images/BirdsEyeView.png)\n",
    "\n",
    "However, before we go on further with this implementation, it is of paramount important to define the domain.\n",
    "\n",
    "## The Domain\n",
    "\n",
    "A Rule is defined as having a __Condition__ and an __Action__. \n",
    "\n",
    "``GC/AllocationTick.AllocationAmount > 200000 : Print Alert``\n",
    "\n",
    "Here, the user requests that for the said process, an alert will be printed if the ``AllocationAmount`` of the ``GC/AllocationTick`` event is greater than 200,000 bytes. The action if the condition is met is that of alerting the user by outputting a message. \n",
    "\n",
    "A rule, more generally, is of the following format: \n",
    "``EventName.PropertyName ConditionalOperator ConditionalOperand : ActionOperator ActionOperand``\n",
    "\n",
    "where:\n",
    "\n",
    "| Part | Description | \n",
    "| ----------- | ----------- |\n",
    "| Event Name | The event name from the trace / real time analysis for which we want to look up the property | \n",
    "| Property Name | A double property (this may change in the future) for which we'd want to construct a rule for | \n",
    "| Conditional Operator | An operator that, along with the Conditional Operand, will dictate situation for which we'll invoke an action for. |   \n",
    "| Conditional Operand | The value or name of the anomaly detection operator along with the Conditional Operator that'll dictate the situation for which we'll invoke an action for. | \n",
    "| Action Operator | The operator that, along with the action operand will be invoked if a condition is met. |  \n",
    "| Action Operand | The operand for which the action operator will be applied to in case a condition is met | \n",
    "\n",
    "The __Condition__ is modeled as the following combination of records and discriminated unions:"
   ]
  },
  {
   "cell_type": "code",
   "execution_count": null,
   "metadata": {
    "dotnet_interactive": {
     "language": "fsharp"
    }
   },
   "outputs": [],
   "source": [
    "// src/PerfAvore/PerfAvore.Console/RulesEngine/Domain.fs\n",
    "\n",
    "type Condition = \n",
    "    {  Conditioner      : Conditioner;\n",
    "       ConditionType    : ConditionType;\n",
    "       ConditionalValue : ConditionalValue }\n",
    "and Conditioner = \n",
    "    { ConditionerEvent    : ConditionerEvent; \n",
    "      ConditionerProperty : ConditionerProperty }\n",
    "and ConditionType = \n",
    "    | LessThan\n",
    "    | LessThanEqualTo\n",
    "    | GreaterThan\n",
    "    | GreaterThanEqualTo\n",
    "    | Equal\n",
    "    | NotEqual\n",
    "    | IsAnomaly\n",
    "and ConditionalValue =\n",
    "    | Value of double\n",
    "    | AnomalyDetectionType of AnomalyDetectionType \n",
    "and ConditionerEvent    = string\n",
    "and ConditionerProperty = string\n",
    "and AnomalyDetectionType =\n",
    "    | DetectIIDSpike"
   ]
  },
  {
   "cell_type": "markdown",
   "metadata": {},
   "source": [
    "To accommodate Anomaly Detection algorithms we add a ``IsAnomaly`` as a ``ConditionType`` which, rather than relying on a hardcoded threshold for the Conditional Value will relegate invoking an action onto an Anomaly Detection algorithm. The one that's implemented for this submission is that of an Independently and Identically Distributed Spike anomaly detection algorithm; more details are given below.\n",
    "\n",
    "For the sake of completeness, the conditions we define are the following:\n",
    "\n",
    "| Condition Operation | Description | \n",
    "| ----------- | ----------- |\n",
    "| IsAnomaly | The condition to match on an anomaly detection algorithm. | \n",
    "| > >= < <= != = | Self explanatory conditional matching based on the value of the event property specified by the rule |\n",
    "\n",
    "An Action is modeled as a record of an __ActionOperator__ and an __ActionOperand__:"
   ]
  },
  {
   "cell_type": "code",
   "execution_count": null,
   "metadata": {
    "dotnet_interactive": {
     "language": "fsharp"
    }
   },
   "outputs": [],
   "source": [
    "// src/PerfAvore/PerfAvore.Console/RulesEngine/Domain.fs\n",
    "\n",
    "type Action = \n",
    "    { ActionOperator: ActionOperator; ActionOperand: ActionOperand }\n",
    "and ActionOperator = \n",
    "    |  Print\n",
    "and ActionOperand =\n",
    "    | Alert\n",
    "    | CallStack\n",
    "    | Chart"
   ]
  },
  {
   "cell_type": "markdown",
   "metadata": {},
   "source": [
    "The following are the currently implemented action operands:\n",
    "\n",
    "| Name of Action Operands | Description | \n",
    "| ----------- | ----------- |\n",
    "| Alert | Alerting Mechanism that'll print out pertinent details about the rule invoked and why it was invoked. |\n",
    "| Call Stack | If a call stack is available, it will be printed out on the console. |\n",
    "| Chart | A chart of data points preceding and including the one that triggered the condition of the rule is generated and rendered as an html file | \n",
    "\n",
    "As of now, ``Print`` is the only operator that simply outputs the operand to the Console.\n",
    "\n",
    "The Rule, a combination of a Condition and a Action along with an identifier and the original rule passed in by the user and therefore is modeled as:"
   ]
  },
  {
   "cell_type": "code",
   "execution_count": null,
   "metadata": {
    "dotnet_interactive": {
     "language": "fsharp"
    }
   },
   "outputs": [],
   "source": [
    "// src/PerfAvore/PerfAvore.Console/RulesEngine/Domain.fs\n",
    "\n",
    "type Rule = \n",
    "    { Id           : Guid\n",
    "      Condition    : Condition\n",
    "      Action       : Action \n",
    "      InputRule    : string }"
   ]
  },
  {
   "cell_type": "markdown",
   "metadata": {},
   "source": [
    "Now that we have gone over the defined the domain, we can comfortably dive into the rule parsing logic that makes extensive use of pattern matching after deserializing a list of rules from a specified JSON file that could look like the following:\n",
    "\n",
    "```\n",
    "[ \n",
    "    \"GC/AllocationTick.AllocationAmount > 108000: Print Alert\",\n",
    "    \"GC/AllocationTick.AllocationAmount isAnomaly DetectIIDSpike : Print CallStack\"\n",
    "]\n",
    "```\n",
    "\n",
    "## Step 1: Parse Rule\n",
    "\n",
    "![Step 1](Images/Step1_ParseRule.png)\n",
    "\n",
    "This first step's goal is take the user inputted rule as a string to a Rule defined in our domain. The parsing logic is broken into two main functions that break up the logic of parsing the Condition and Action separately. The ``parseCondition`` function is defined as the following and constructs the condition based on the aforementioned constituents:"
   ]
  },
  {
   "cell_type": "code",
   "execution_count": null,
   "metadata": {
    "dotnet_interactive": {
     "language": "fsharp"
    }
   },
   "outputs": [],
   "source": [
    "// src/PerfAvore/PerfAvore.Console/RulesEngine/Parser.fs\n",
    "\n",
    "let parseCondition (conditionAsString : string) : Condition = \n",
    "\n",
    "    let splitCondition : string[] = conditionAsString.Split(\" \", StringSplitOptions.RemoveEmptyEntries)\n",
    "    \n",
    "    // Precondition check\n",
    "    if splitCondition.Length <> 3\n",
    "    then invalidArg (nameof conditionAsString) (\"Incorrect format of the condition. Format is: Event.Property Condition ConditionalValue. For example: GCEnd.SuspensionTimeMSec >= 298\")\n",
    "    \n",
    "    // Condition Event and Property\n",
    "    let parseConditioner : Conditioner = \n",
    "        let splitConditioner : string[] = splitCondition.[0].Split(\".\", StringSplitOptions.RemoveEmptyEntries)\n",
    "        let parseConditionEvent : ConditionerEvent = splitConditioner.[0]\n",
    "        let parseConditionProperty : ConditionerProperty = splitConditioner.[1]\n",
    "\n",
    "        { ConditionerEvent = parseConditionEvent; ConditionerProperty = parseConditionProperty }\n",
    "\n",
    "    // Condition Type\n",
    "    let parseConditionType : ConditionType =\n",
    "        match splitCondition.[1].ToLower() with\n",
    "        | \">\"  | \"greaterthan\"                                 -> ConditionType.GreaterThan \n",
    "        | \"<\"  | \"lessthan\"                                    -> ConditionType.LessThan\n",
    "        | \">=\" | \"greaterthanequalto\" | \"greaterthanorequalto\" -> ConditionType.GreaterThanEqualTo\n",
    "        | \"<=\" | \"lessthanequalto\"    | \"lessthanorequalto\"    -> ConditionType.LessThanEqualTo\n",
    "        | \"=\"  | \"equal\"              | \"equals\"               -> ConditionType.Equal\n",
    "        | \"!=\" | \"notequal\"                                    -> ConditionType.NotEqual\n",
    "        | \"isanomaly\"                                          -> ConditionType.IsAnomaly\n",
    "        | _                                                    -> invalidArg (nameof splitCondition) (\"${splitCondition.[1]} is an unrecognized condition type.\")\n",
    "\n",
    "    // Condition Value\n",
    "    let parseConditionValue : ConditionalValue =\n",
    "        let conditionalValueAsString = splitCondition.[2].ToLower()\n",
    "        let checkDouble, doubleValue = Double.TryParse conditionalValueAsString \n",
    "        match checkDouble, doubleValue with\n",
    "        | true, v -> ConditionalValue.Value(v)\n",
    "        | false, _ -> \n",
    "            match conditionalValueAsString with\n",
    "            | \"detectiidspike\" -> ConditionalValue.AnomalyDetectionType(AnomalyDetectionType.DetectIIDSpike)\n",
    "            | _                -> invalidArg (nameof splitCondition) ($\"{conditionalValueAsString} is an unrecognized anomaly detection type.\")\n",
    "        \n",
    "    { Conditioner = parseConditioner; ConditionType = parseConditionType; ConditionalValue = parseConditionValue }"
   ]
  },
  {
   "cell_type": "markdown",
   "metadata": {},
   "source": [
    "Similarly, the action parsing logic is implemented via ``parseAction`` function:"
   ]
  },
  {
   "cell_type": "code",
   "execution_count": null,
   "metadata": {
    "dotnet_interactive": {
     "language": "fsharp"
    }
   },
   "outputs": [],
   "source": [
    "// src/PerfAvore/PerfAvore.Console/RulesEngine/Parser.fs\n",
    "\n",
    "let parseAction (actionAsAString : string) : Action = \n",
    "    let splitAction : string[] = actionAsAString.Split(\" \", StringSplitOptions.RemoveEmptyEntries)\n",
    "\n",
    "    // ActionOperator\n",
    "    let parseActionOperator : ActionOperator = \n",
    "        match splitAction.[0].ToLower() with\n",
    "        | \"print\" -> ActionOperator.Print\n",
    "        | _       -> invalidArg (nameof splitAction) ($\"{splitAction.[0]} is an unrecognized Action Operator.\")\n",
    "\n",
    "    // ActionOperand \n",
    "    let parseActionOperand : ActionOperand = \n",
    "        match splitAction.[1].ToLower() with\n",
    "        | \"alert\"     -> ActionOperand.Alert\n",
    "        | \"callstack\" -> ActionOperand.CallStack\n",
    "        | \"chart\"     -> ActionOperand.Chart\n",
    "        | _           -> invalidArg (nameof splitAction) ($\"{splitAction.[1]} is an unrecognized Action Operand.\")\n",
    "\n",
    "    \n",
    "    { ActionOperator = parseActionOperator; ActionOperand = parseActionOperand }"
   ]
  },
  {
   "cell_type": "markdown",
   "metadata": {},
   "source": [
    "Finally, these 2 parsing functions are combined to parse a particular rule:"
   ]
  },
  {
   "cell_type": "code",
   "execution_count": null,
   "metadata": {
    "dotnet_interactive": {
     "language": "fsharp"
    }
   },
   "outputs": [],
   "source": [
    "// src/PerfAvore/PerfAvore.Console/RulesEngine/Parser.fs\n",
    "\n",
    "let parseRule (ruleAsString : string) : Rule = \n",
    "    let splitRuleAsAString : string[] = ruleAsString.Split(\":\")\n",
    "    let condition : Condition = parseCondition splitRuleAsAString.[0]\n",
    "    let action : Action = parseAction splitRuleAsAString.[1]\n",
    "    { Condition = condition; Action = action; InputRule = ruleAsString; Id = Guid.NewGuid() }"
   ]
  },
  {
   "cell_type": "markdown",
   "metadata": {},
   "source": [
    "Now that we have the functionality of parsing a rule, we want to move on to Step 2 i.e. Processing Trace Events. \n",
    "\n",
    "## Step 2: Process Trace Events\n",
    "\n",
    "![Step 2: Process Trace Events](Images/Step2_ProcessTraceEvents.png)\n",
    "\n",
    "Since both reading Trace Events from a .ETL file and real time event processing had to be accomodated for, we made a split in the logic using a command line parameter ``TracePath``; the absence of this command line parameter will indicate we want to kick off the real time processing logic.\n",
    "\n",
    "We make use of ``Argu``, an F# specific command line argument parsing library that makes it conducive to use pattern matching based the types of the command line args such as the following: \n"
   ]
  },
  {
   "cell_type": "code",
   "execution_count": null,
   "metadata": {
    "dotnet_interactive": {
     "language": "fsharp"
    }
   },
   "outputs": [],
   "source": [
    "// src/PerfAvore/PerfAvore.Console/CommandLine.fs\n",
    "\n",
    "#r \"nuget:Argu\" // Added specifically for this notebook.\n",
    "\n",
    "open Argu\n",
    "\n",
    "type Arguments = \n",
    "    | [<Mandatory>] ProcessName of string\n",
    "    | TracePath of Path : string\n",
    "    | RulesPath of Path : string\n",
    "\n",
    "    interface IArgParserTemplate with\n",
    "        member s.Usage =\n",
    "            match s with\n",
    "            | TracePath   _ -> \"Specify a Path to the Trace.\"\n",
    "            | ProcessName _ -> \"Specify a Process Name.\"\n",
    "            | RulesPath   _ -> \"Specify a Path to a Json File With the Rules.\""
   ]
  },
  {
   "cell_type": "markdown",
   "metadata": {},
   "source": [
    "The usage of the trace path is incorporated like the following:"
   ]
  },
  {
   "cell_type": "code",
   "execution_count": null,
   "metadata": {
    "dotnet_interactive": {
     "language": "fsharp"
    }
   },
   "outputs": [
    {
     "data": {
      "text/html": [
       "<div class=\"dni-plaintext\">True</div>"
      ]
     },
     "metadata": {},
     "output_type": "display_data"
    }
   ],
   "source": [
    "// src/PerfAvore/PerfAvore.Console/Program.fs\n",
    "   \n",
    "let argv              = [| \"--tracepath\"; \"Path.etl\"; \"--processname\"; \"Test.exe\"|]\n",
    "let parser            = ArgumentParser.Create<Arguments>()\n",
    "let parsedCommandline = parser.Parse(inputs = argv)\n",
    "\n",
    "let containsTracePath : bool = parsedCommandline.Contains TracePath\n",
    "containsTracePath"
   ]
  },
  {
   "cell_type": "markdown",
   "metadata": {},
   "source": [
    "To interface with the Trace Events, we use the ``Microsoft.Diagnostics.Tracing.TraceEvent`` library that contains the ``TraceLog`` API that'll help us read events from both the .ETL file and the real time processing. The logic to get the stream of events is achieved by the following two functions based on if the ``tracepath`` is specified as a command line argument."
   ]
  },
  {
   "cell_type": "code",
   "execution_count": null,
   "metadata": {
    "dotnet_interactive": {
     "language": "fsharp"
    }
   },
   "outputs": [],
   "source": []
  },
  {
   "cell_type": "markdown",
   "metadata": {},
   "source": [
    "## Step 3\n",
    "\n",
    "- go over anomaly detection algorithm in detail\n",
    "- Printing call stack resolution\n",
    "- alerting code\n",
    "- Charting"
   ]
  },
  {
   "cell_type": "markdown",
   "metadata": {},
   "source": [
    "## Conclusion"
   ]
  },
  {
   "cell_type": "markdown",
   "metadata": {},
   "source": [
    "## References\n",
    "\n",
    "1. [Taking Stock of Anomalies with F# And ML.NET](https://www.codesuji.com/2019/05/24/F-and-MLNet-Anomaly/)\n",
    "2. [A CPU Sampling Profiler in Less Than 200 Lines](https://lowleveldesign.org/2020/10/13/a-cpu-sampling-profiler-in-less-than-200-lines/)\n",
    "3. [Tutorial: Detect anomalies in time series with ML.NET](https://docs.microsoft.com/en-us/dotnet/machine-learning/tutorials/phone-calls-anomaly-detection)\n",
    "4. [Plug-in martingales for testing exchangeability on-line: arXiv:1204.3251](https://arxiv.org/pdf/1204.3251.pdf)\n",
    "5. [Atle Rudshaug's Submission of a Console App](https://atlemann.github.io/fsharp/2021/12/11/fs-crypto.html)"
   ]
  }
 ],
 "metadata": {
  "kernelspec": {
   "display_name": ".NET (F#)",
   "language": "F#",
   "name": ".net-fsharp"
  },
  "language_info": {
   "name": "F#"
  }
 },
 "nbformat": 4,
 "nbformat_minor": 2
}
