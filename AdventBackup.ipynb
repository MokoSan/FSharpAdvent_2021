{
 "cells": [
  {
   "cell_type": "markdown",
   "metadata": {
    "dotnet_interactive": {
     "language": "fsharp"
    }
   },
   "source": [
    "# Perf Avore: A Rule Based Performance Analysis and Monitoring Tool in FSharp\n",
    "\n",
    "For my 2021 F# Advent Submission (5 years of submissions!!!!), I developed a Performance Based Monitoring and Analysis Tool called \"_Perf-Avore_\" that applies user specified __Rules__ that consists of __Conditions__ to match based on Trace Events from either an .ETL trace or a real time session and if the conditions are met, __Actions__ specified in the rule are invoked. Different types of conditions could include to check if the trace event property is an anomaly or a deviant point based on an anomaly detection algorithm or is simply above a threshold value specified in the rule. Similarly, \n",
    "\n",
    "The __purpose__ of Perf Avore is to provide users an easy and configurable way to detect and diagnose performance issues effectively by specifying details that are pertinent to performance issues in the rule itself. A use case, for example, is detecting spikes in memory allocations that can put unwanted pressure on the Garbage Collector and inevitably slow down the process. By specifying a rule that tracks ``AllocationAmount`` on the ``GC/AllocationTick`` event if it goes above a specified amount and then printing out the callstack for it can shed light on the impetus behind the increased pressure.\n",
    "\n",
    "## High Level Overview\n",
    "\n",
    "![High Level Idea](Images/HighlevelIdea.png)\n",
    "\n",
    "1. Users provide rules.\n",
    "   1. Rules consist of conditions and actions.\n",
    "   2. Conditions Include: \n",
    "      1. The Name of the Trace Event and the property they'd like to track. \n",
    "      2. The condition or case for which they'd like to act on.\n",
    "2. Based on either a given trace or by real time monitoring, conditions are checked for and actions are invoked.\n",
    "3. Examples of Rules:\n",
    "   1. ``GC/AllocationTick.AllocationAmount > 200000 : Print Alert``\n",
    "   2. ``ThreadPoolWorkerThreadAdjustment/Stats.Throughput < 4 : Print CallStack``\n",
    "   3. ``GC/HeapStats.GenerationSize0 isAnomaly DetectIIDSpike : Print Chart``\n",
    "\n",
    "The code is available [here](https://github.com/MokoSan/FSharpAdvent_2021/tree/main/src/PerfAvore/PerfAvore.Console). To jump into the details feel free to start [here]()\n",
    "\n",
    "## Experience Developing in FSharp \n",
    "\n",
    "F#, once again, didn't fail to deliver an incredible development experience! \n",
    "Despite not developing in F# for an extended period of time (much to my regret - I kicked myself about this during last year's [submission](https://bit.ly/3hhhRjq) as well), I was able to let the muscle memory from my previous projects kick in and reached a productive state surprisingly quickly; I'd like to underscore that this is more of a testament to the ease of usage of the language speaking volumes about the user-friendly nature of the language itself (and not necessarily my some-what-sophomoric acumen). \n",
    "\n",
    "Granted, I didn't make use of all the bells and whistles the language had to offer, what I did make use of was damn easy to get stuff done with. \n",
    "The particular aspects of the language that made it easy to develop a Domain Specific Language, a parser for that domain specific language and dynamic application of the actions are Pattern Matching and Immutable Functional Data Structures such as Records and Discriminated Unions that make expressing the domain succinctly and lucidly not only for the developer but also the reader.\n",
    "\n",
    "An image that typifies the incredibly accessible nature of F# is the following one filched from a presentation by [Don Syme](https://twitter.com/dsymetweets) and [Kathleen Dollard](https://twitter.com/KathleenDollard) during this year's .NET Conf in November:\n",
    "\n",
    "![Why FSharp](Images/WhyFSharp.jpg)\n",
    "\n",
    "## Inspiration For the Project\n",
    "\n",
    "Perf Avore was heavily inspired by [maoni0's](https://twitter.com/maoni0) [realmon](https://github.com/Maoni0/realmon), a monitoring tool that tells you when GCs happen in a process and some characteristics about these GCs. My contributions and associated interactions for realmon definitely were incredibly instrumental in coming up with the idea and it's implementation.\n",
    "\n",
    "Additionally, as a Perf Engineer, I find that there are times where I need to arduously load traces in Perf View, resolve symbols and wait until all the windows open up to do basic things such as look up a single call stack for a single event or look up the payload value of a single event. By devising a simpler solution, I wish to reduce my perf investigation time as I build on this project.\n",
    "\n",
    "Now that a basic overview and other auxiliary topics have been covered, without much more ceremony, I'll be diving into how I built Perf Avore written from a tutorial based perspective in the present tense."
   ]
  }
 ],
 "metadata": {
  "kernelspec": {
   "display_name": ".NET (F#)",
   "language": "F#",
   "name": ".net-fsharp"
  },
  "language_info": {
   "name": "F#"
  }
 },
 "nbformat": 4,
 "nbformat_minor": 2
}
