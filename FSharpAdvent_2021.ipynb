{
 "cells": [
  {
   "cell_type": "markdown",
   "metadata": {
    "dotnet_interactive": {
     "language": "fsharp"
    }
   },
   "source": [
    "# FSharp Advent 2021: Rule Based Performance Analysis in FSharp\n",
    "\n",
    "## The Short __tl;dr__ version \n",
    "\n",
    "## The Long Version\n",
    "\n",
    "### Introduction\n",
    "\n",
    "5th year going strong. Previous submissions.\n",
    "FSharp is: Succinct, Robust and Performant (Insert Image).\n",
    "\n",
    "#### Purpose\n",
    "\n",
    "### Inspiration\n",
    "\n",
    "GCRealMon (Insert Plug)\n",
    "\n",
    "### Goals \n",
    "\n",
    "Insert Image\n",
    "\n",
    "- Reading from a Trace Log\n",
    "- Anomaly Detection\n",
    "- Real Time Capabilities\n",
    "\n",
    "### Getting Setup\n",
    "\n",
    "#### Prototyping done via DotNet Interactive\n",
    "#### Dependencies\n",
    "\n",
    "### DSL Design\n",
    "\n",
    "### Conditions\n",
    "\n",
    "#### Anomaly Detection using ML.NET\n",
    "\n",
    "### Actions\n",
    "\n",
    "#### Call Stack Resolution"
   ]
  },
  {
   "cell_type": "markdown",
   "metadata": {},
   "source": [
    "## Conclusion"
   ]
  },
  {
   "cell_type": "markdown",
   "metadata": {},
   "source": [
    "## Tooling\n",
    "\n",
    "## Setting Up"
   ]
  }
 ],
 "metadata": {
  "kernelspec": {
   "display_name": ".NET (F#)",
   "language": "F#",
   "name": ".net-fsharp"
  },
  "language_info": {
   "name": "F#"
  }
 },
 "nbformat": 4,
 "nbformat_minor": 2
}
