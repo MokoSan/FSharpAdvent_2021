{
 "cells": [
  {
   "cell_type": "markdown",
   "metadata": {
    "dotnet_interactive": {
     "language": "fsharp"
    }
   },
   "source": [
    "# Invoked Action Audit"
   ]
  },
  {
   "cell_type": "code",
   "execution_count": null,
   "metadata": {
    "dotnet_interactive": {
     "language": "fsharp"
    }
   },
   "outputs": [],
   "source": [
    "type InvokedActionInfo = \n",
    "    { Timestamp    : double\n",
    "      ProcessName  : string\n",
    "      EventName    : string\n",
    "      ThreadId     : int\n",
    "      RuleInvoked  : Rule\n",
    "      Reason       : double\n",
    "      ActionResult : string }\n",
    "\n",
    "type InvokedActionInfos = InvokedActionInfo seq"
   ]
  }
 ],
 "metadata": {
  "kernelspec": {
   "display_name": ".NET (F#)",
   "language": "F#",
   "name": ".net-fsharp"
  },
  "language_info": {
   "name": "F#"
  }
 },
 "nbformat": 4,
 "nbformat_minor": 2
}
