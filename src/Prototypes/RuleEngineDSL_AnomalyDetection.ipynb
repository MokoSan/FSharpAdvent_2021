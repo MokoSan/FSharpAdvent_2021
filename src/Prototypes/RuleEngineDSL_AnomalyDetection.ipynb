{
 "cells": [
  {
   "cell_type": "markdown",
   "metadata": {
    "dotnet_interactive": {
     "language": "fsharp"
    }
   },
   "source": [
    "# Rule Engine DSL with Anomaly Detection "
   ]
  },
  {
   "cell_type": "markdown",
   "metadata": {},
   "source": [
    "Refer to [this](https://github.com/MokoSan/FSharpAdvent_2021/blob/main/src/Prototypes/RuleEngineDSL.ipynb) notebook for the prelims."
   ]
  },
  {
   "cell_type": "code",
   "execution_count": null,
   "metadata": {
    "dotnet_interactive": {
     "language": "fsharp"
    }
   },
   "outputs": [
    {
     "data": {
      "text/html": [
       "<div><div></div><div></div><div><strong>Installed Packages</strong><ul><li><span>Microsoft.Diagnostics.Tracing.TraceEvent, 2.0.74</span></li><li><span>Microsoft.ML, 1.7.0</span></li><li><span>Microsoft.ML.TimeSeries, 1.7.0</span></li><li><span>XPlot.GoogleCharts, 3.0.1</span></li><li><span>XPlot.Plotly, 4.0.6</span></li></ul></div></div>"
      ]
     },
     "metadata": {},
     "output_type": "display_data"
    }
   ],
   "source": [
    "#r \"nuget:Microsoft.Diagnostics.Tracing.TraceEvent\"\n",
    "#r \"nuget:XPlot.Plotly\"\n",
    "#r \"nuget:XPlot.GoogleCharts\"\n",
    "#r \"nuget:Microsoft.ML\"\n",
    "#r \"nuget:Microsoft.ML.TimeSeries\"\n",
    "\n",
    "open System;\n",
    "open System.Linq;\n",
    "open Microsoft.Diagnostics.Tracing;\n",
    "open Microsoft.Diagnostics.Tracing.Analysis;\n",
    "open Microsoft.Diagnostics.Tracing.Etlx;\n",
    "open Microsoft.Diagnostics.Tracing.Session;\n",
    "open Microsoft.Diagnostics.Tracing.Parsers.Clr;\n",
    "open Microsoft.Diagnostics.Tracing.Analysis.GC;\n",
    "open Microsoft.Diagnostics.Symbols;\n",
    "open Microsoft.ML;\n",
    "open Microsoft.ML.Data;\n",
    "open Microsoft.ML.Transforms.TimeSeries;\n",
    "open System.Collections.Generic;"
   ]
  },
  {
   "cell_type": "markdown",
   "metadata": {},
   "source": [
    "## Stuff that Remains The Same"
   ]
  },
  {
   "cell_type": "code",
   "execution_count": null,
   "metadata": {
    "dotnet_interactive": {
     "language": "fsharp"
    }
   },
   "outputs": [],
   "source": [
    "// Conditioner stuff\n",
    "// Conditioner Event is the name of the type of event.\n",
    "type ConditionerEvent    = string\n",
    "// Conditioner Property is the name of the property of the event.\n",
    "type ConditionerProperty = string\n",
    "\n",
    "type Conditioner = { ConditionerEvent : ConditionerEvent; ConditionerProperty : ConditionerProperty }\n",
    "\n",
    "// Action stuff\n",
    "type ActionOperator = \n",
    "    |  Print\n",
    "\n",
    "type ActionOperand =\n",
    "    | Alert\n",
    "    | CallStack\n",
    "\n",
    "type Action = { ActionOperator: ActionOperator; ActionOperand: ActionOperand }\n",
    "\n",
    "let parseAction (actionAsAString : string) : Action = \n",
    "    let splitAction : string[] = actionAsAString.Split(\" \", StringSplitOptions.RemoveEmptyEntries)\n",
    "\n",
    "    // ActionOperator\n",
    "    let parseActionOperator : ActionOperator = \n",
    "        match splitAction.[0].ToLower() with\n",
    "        | \"print\" -> ActionOperator.Print\n",
    "        | _       -> failwith($\"{splitAction.[0]} is an unrecognized Action Operator.\")\n",
    "\n",
    "    // ActionOperand \n",
    "    let parseActionOperand : ActionOperand = \n",
    "        match splitAction.[1].ToLower() with\n",
    "        | \"alert\"     -> ActionOperand.Alert\n",
    "        | \"callstack\" -> ActionOperand.CallStack\n",
    "        | _           -> failwith($\"{splitAction.[1]} is an unrecognized Action Operand.\")\n",
    "\n",
    "    { ActionOperator = parseActionOperator; ActionOperand = parseActionOperand }"
   ]
  },
  {
   "cell_type": "markdown",
   "metadata": {},
   "source": [
    "## Updated Condition + Parser"
   ]
  },
  {
   "cell_type": "code",
   "execution_count": null,
   "metadata": {
    "dotnet_interactive": {
     "language": "fsharp"
    }
   },
   "outputs": [],
   "source": [
    "type ConditionType = \n",
    "    | LessThan\n",
    "    | LessThanEqualTo\n",
    "    | GreaterThan\n",
    "    | GreaterThanEqualTo\n",
    "    | Equal\n",
    "    | NotEqual\n",
    "    | IsAnomaly\n",
    "\n",
    "type AnomalyDetectionType =\n",
    "    | DetectIIDSpike\n",
    "\n",
    "type ConditionalValue =\n",
    "    | Value of double\n",
    "    | AnomalyDetectionType of AnomalyDetectionType \n",
    "\n",
    "type Condition = \n",
    "    {  Conditioner      : Conditioner;\n",
    "       ConditionType    : ConditionType;\n",
    "       ConditionalValue : ConditionalValue }\n",
    "\n",
    "let parseCondition (conditionAsString : string) : Condition = \n",
    "\n",
    "    let splitCondition : string[] = conditionAsString.Split(\" \", StringSplitOptions.RemoveEmptyEntries)\n",
    "    \n",
    "    // Precondition check\n",
    "    if splitCondition.Length <> 3\n",
    "    then failwith(\"Incorrect format of the condition. Format is: Event.Property Condition ConditionalValue. For example: GCEnd.SuspensionTimeMSec >= 298\")\n",
    "    \n",
    "    // Condition Event and Property\n",
    "    let parseConditioner : Conditioner = \n",
    "        let splitConditioner : string[] = splitCondition.[0].Split(\".\", StringSplitOptions.RemoveEmptyEntries)\n",
    "        let parseConditionEvent : ConditionerEvent = splitConditioner.[0]\n",
    "        let parseConditionProperty : ConditionerProperty = splitConditioner.[1]\n",
    "\n",
    "        { ConditionerEvent = parseConditionEvent; ConditionerProperty = parseConditionProperty }\n",
    "\n",
    "    // Condition Type\n",
    "    let parseConditionType : ConditionType =\n",
    "        match splitCondition.[1].ToLower() with\n",
    "        | \">\"  | \"greaterthan\"                                 -> ConditionType.GreaterThan \n",
    "        | \"<\"  | \"lessthan\"                                    -> ConditionType.LessThan\n",
    "        | \">=\" | \"greaterthanequalto\" | \"greaterthanorequalto\" -> ConditionType.GreaterThanEqualTo\n",
    "        | \"<=\" | \"lessthanequalto\"    | \"lessthanorequalto\"    -> ConditionType.LessThanEqualTo\n",
    "        | \"=\"  | \"equal\"              | \"equals\"               -> ConditionType.Equal\n",
    "        | \"!=\" | \"notequal\"                                    -> ConditionType.NotEqual\n",
    "        | \"isanomaly\"                                          -> ConditionType.IsAnomaly\n",
    "        | _                                                    -> failwith(\"${splitCondition.[1]} is an unrecognized condition type.\")\n",
    "\n",
    "    // Condition Value\n",
    "    let parseConditionValue : ConditionalValue =\n",
    "        let conditionalValueAsString = splitCondition.[2].ToLower()\n",
    "        let checkDouble, doubleValue = Double.TryParse conditionalValueAsString \n",
    "        match checkDouble, doubleValue with\n",
    "        | true, v -> ConditionalValue.Value(v)\n",
    "        | false, _ -> \n",
    "            match conditionalValueAsString with\n",
    "            | \"detectiidspike\" -> ConditionalValue.AnomalyDetectionType(AnomalyDetectionType.DetectIIDSpike)\n",
    "            | _                -> failwith($\"{conditionalValueAsString} is an unrecognized anomaly detection type.\")\n",
    "        \n",
    "    { Conditioner = parseConditioner; ConditionType = parseConditionType; ConditionalValue = parseConditionValue }"
   ]
  },
  {
   "cell_type": "code",
   "execution_count": null,
   "metadata": {
    "dotnet_interactive": {
     "language": "fsharp"
    }
   },
   "outputs": [],
   "source": [
    "type Rule             = { Condition : Condition; Action : Action; OriginalRule : string; Id : Guid }\n",
    "type RuleApplier      = Rule * TraceEvent -> unit\n",
    "type ConditionChecker = Rule * TraceEvent -> bool"
   ]
  },
  {
   "cell_type": "markdown",
   "metadata": {},
   "source": [
    "### Testing"
   ]
  },
  {
   "cell_type": "code",
   "execution_count": null,
   "metadata": {
    "dotnet_interactive": {
     "language": "fsharp"
    }
   },
   "outputs": [],
   "source": [
    "let parseRule (ruleAsString : string) : Rule = \n",
    "    let splitRuleAsAString : string[] = ruleAsString.Split(\":\")\n",
    "    let condition : Condition = parseCondition splitRuleAsAString.[0]\n",
    "    let action : Action = parseAction splitRuleAsAString.[1]\n",
    "    { Condition = condition; Action = action; OriginalRule = ruleAsString; Id = Guid.NewGuid() }"
   ]
  },
  {
   "cell_type": "code",
   "execution_count": null,
   "metadata": {
    "dotnet_interactive": {
     "language": "fsharp"
    }
   },
   "outputs": [
    {
     "data": {
      "text/html": [
       "<table><thead><tr><th>Condition</th><th>Action</th><th>OriginalRule</th><th>Id</th></tr></thead><tbody><tr><td><div class=\"dni-plaintext\">{ { Conditioner = { ConditionerEvent = &quot;GCEnd&quot;\n",
       "                  ConditionerProperty = &quot;SuspensionTimeMSec&quot; }\n",
       "  ConditionType = GreaterThan\n",
       "  ConditionalValue = Value 100.0 }: Conditioner: { { ConditionerEvent = &quot;GCEnd&quot;\n",
       "  ConditionerProperty = &quot;SuspensionTimeMSec&quot; }: ConditionerEvent: GCEnd, ConditionerProperty: SuspensionTimeMSec }, ConditionType: GreaterThan, ConditionalValue: { Value 100.0: Item: 100 } }</div></td><td><div class=\"dni-plaintext\">{ { ActionOperator = Print\n",
       "  ActionOperand = CallStack }: ActionOperator: Print, ActionOperand: CallStack }</div></td><td><div class=\"dni-plaintext\">GCEnd.SuspensionTimeMSec &gt; 100 : Print CallStack</div></td><td><div class=\"dni-plaintext\">dacbb22b-feca-4b8e-83b0-00e55703bebc</div></td></tr></tbody></table>"
      ]
     },
     "metadata": {},
     "output_type": "display_data"
    }
   ],
   "source": [
    "let testRule1 = \"GCEnd.SuspensionTimeMSec > 100 : Print CallStack\"\n",
    "let parsedTestRule1 = parseRule testRule1\n",
    "display(parsedTestRule1)"
   ]
  },
  {
   "cell_type": "code",
   "execution_count": null,
   "metadata": {
    "dotnet_interactive": {
     "language": "fsharp"
    }
   },
   "outputs": [
    {
     "data": {
      "text/html": [
       "<table><thead><tr><th>Condition</th><th>Action</th><th>OriginalRule</th><th>Id</th></tr></thead><tbody><tr><td><div class=\"dni-plaintext\">{ { Conditioner = { ConditionerEvent = &quot;GCEnd&quot;\n",
       "                  ConditionerProperty = &quot;PauseTimeMSec&quot; }\n",
       "  ConditionType = GreaterThanEqualTo\n",
       "  ConditionalValue = Value 300.0 }: Conditioner: { { ConditionerEvent = &quot;GCEnd&quot;\n",
       "  ConditionerProperty = &quot;PauseTimeMSec&quot; }: ConditionerEvent: GCEnd, ConditionerProperty: PauseTimeMSec }, ConditionType: GreaterThanEqualTo, ConditionalValue: { Value 300.0: Item: 300 } }</div></td><td><div class=\"dni-plaintext\">{ { ActionOperator = Print\n",
       "  ActionOperand = Alert }: ActionOperator: Print, ActionOperand: Alert }</div></td><td><div class=\"dni-plaintext\">GCEnd.PauseTimeMSec &gt;= 300 : Print Alert</div></td><td><div class=\"dni-plaintext\">d8d25a9d-f779-4444-bedd-b2887435edfb</div></td></tr></tbody></table>"
      ]
     },
     "metadata": {},
     "output_type": "display_data"
    }
   ],
   "source": [
    "let testRule2 = \"GCEnd.PauseTimeMSec >= 300 : Print Alert\"\n",
    "let parsedTestRule2 = parseRule testRule2\n",
    "display(parsedTestRule2)"
   ]
  },
  {
   "cell_type": "code",
   "execution_count": null,
   "metadata": {
    "dotnet_interactive": {
     "language": "fsharp"
    }
   },
   "outputs": [
    {
     "data": {
      "text/html": [
       "<table><thead><tr><th>Condition</th><th>Action</th><th>OriginalRule</th><th>Id</th></tr></thead><tbody><tr><td><div class=\"dni-plaintext\">{ { Conditioner = { ConditionerEvent = &quot;GCEnd&quot;\n",
       "                  ConditionerProperty = &quot;PauseTimeMSec&quot; }\n",
       "  ConditionType = IsAnomaly\n",
       "  ConditionalValue = AnomalyDetectionType DetectIIDSpike }: Conditioner: { { ConditionerEvent = &quot;GCEnd&quot;\n",
       "  ConditionerProperty = &quot;PauseTimeMSec&quot; }: ConditionerEvent: GCEnd, ConditionerProperty: PauseTimeMSec }, ConditionType: IsAnomaly, ConditionalValue: { AnomalyDetectionType DetectIIDSpike: Item: DetectIIDSpike } }</div></td><td><div class=\"dni-plaintext\">{ { ActionOperator = Print\n",
       "  ActionOperand = Alert }: ActionOperator: Print, ActionOperand: Alert }</div></td><td><div class=\"dni-plaintext\">GCEnd.PauseTimeMSec isAnomaly detectIIDSpike : Print Alert</div></td><td><div class=\"dni-plaintext\">09ee4581-7e95-4410-99c5-6bd15ed78205</div></td></tr></tbody></table>"
      ]
     },
     "metadata": {},
     "output_type": "display_data"
    }
   ],
   "source": [
    "let testRule3 = \"GCEnd.PauseTimeMSec isAnomaly detectIIDSpike : Print Alert\"\n",
    "let parsedTestRule3 = parseRule testRule3\n",
    "display(parsedTestRule3)"
   ]
  },
  {
   "cell_type": "markdown",
   "metadata": {},
   "source": [
    "### Anomaly Detection: IIDSpike Detection"
   ]
  },
  {
   "cell_type": "markdown",
   "metadata": {},
   "source": [
    "#### Anomaly Data Service\n",
    "\n",
    "Based on the rule, for anomaly detection, we need some data points in the past to make a decision about the data."
   ]
  },
  {
   "cell_type": "code",
   "execution_count": null,
   "metadata": {
    "dotnet_interactive": {
     "language": "fsharp"
    }
   },
   "outputs": [],
   "source": [
    "type AnomalyDetectionOutput =\n",
    "    {\n",
    "        Timestamp : double;\n",
    "        Value     : double;\n",
    "        IsAnomaly : bool;\n",
    "        pValue    : double;\n",
    "    }\n",
    "\n",
    "// Thread safety??\n",
    "type AnomalyDetectionService() =\n",
    "    let cache = Dictionary<Guid, List<double * double>>()\n",
    "\n",
    "    member this.UpdateData (rule : Rule) (timestamp : double) (value : double) : unit = \n",
    "        let ruleId = rule.Id\n",
    "        let contains, v = cache.TryGetValue ruleId\n",
    "        if contains then v.Add(timestamp, value)\n",
    "        else cache.Add(ruleId, List<double * double>())"
   ]
  },
  {
   "cell_type": "markdown",
   "metadata": {},
   "source": [
    "#### Anomaly Detection Implementation"
   ]
  },
  {
   "cell_type": "code",
   "execution_count": null,
   "metadata": {
    "dotnet_interactive": {
     "language": "fsharp"
    }
   },
   "outputs": [],
   "source": [
    "let ctx : MLContext = MLContext()\n",
    "\n",
    "type Input() =\n",
    "    [<DefaultValue>]\n",
    "    [<LoadColumn(0)>]\n",
    "    val mutable public timestamp : double \n",
    "\n",
    "    [<DefaultValue>]\n",
    "    [<LoadColumn(1)>]\n",
    "    val mutable public value : float32\n",
    "\n",
    "type Prediction() = \n",
    "    [<DefaultValue>]\n",
    "    [<VectorType(3)>] // Prediction + value + p-value\n",
    "    val mutable public Prediction : double[]\n",
    "\n",
    "let getAnomalies (rule : Rule) (traceEvent: TraceEvent) (payload : double) : AnomalyDetectionOutput = \n",
    "    { Timestamp = traceEvent.TimeStampRelativeMSec; Value = payload; IsAnomaly = true; pValue = 0.}\n",
    "\n",
    "// double * double -> Timestamp * Value\n",
    "let getAnomaliesHelper (input : (double * double) seq ) =\n",
    "    let dataView = \n",
    "        ctx\n",
    "            .Data\n",
    "            .LoadFromEnumerable<Input>(input |> Seq.map(fun (timestamp, value) -> Input(timestamp = timestamp, value = float32 value) ))\n",
    "        \n",
    "    let anomalyPValueHistoryLength = 30\n",
    "    let anomalyConfidence = 95.\n",
    "\n",
    "    // https://github.com/dotnet/machinelearning/blob/510f0112d4fbb4d3ee233b9ca95c83fae1f9da91/src/Microsoft.ML.TimeSeries/SequentialAnomalyDetectionTransformBase.cs\n",
    "    // Steps:\n",
    "    // 1. Compute raw anomaly score - for this method, it's simply the input value: https://github.com/dotnet/machinelearning/blob/510f0112d4fbb4d3ee233b9ca95c83fae1f9da91/src/Microsoft.ML.TimeSeries/IidAnomalyDetectionBase.cs#L191\n",
    "    // 2. Compute p-value based on kernel density estimate: \n",
    "    //  -> https://github.com/dotnet/machinelearning/blob/510f0112d4fbb4d3ee233b9ca95c83fae1f9da91/src/Microsoft.ML.TimeSeries/SequentialAnomalyDetectionTransformBase.cs#L562\n",
    "    //  -> https://github.com/dotnet/machinelearning/blob/510f0112d4fbb4d3ee233b9ca95c83fae1f9da91/src/Microsoft.ML.TimeSeries/SequentialAnomalyDetectionTransformBase.cs#L475 \n",
    "    // If p-value < (1 - confidence / 100.0) -> Alert i.e. anomaly.\n",
    "    let anomalyPipeline =\n",
    "        ctx.Transforms.DetectIidSpike(\n",
    "        outputColumnName = \"Prediction\",\n",
    "        inputColumnName = \"value\",\n",
    "        side = AnomalySide.TwoSided,\n",
    "        confidence = anomalyConfidence,  //  Alert Threshold = 1 - options.Confidence / 100;\n",
    "        pvalueHistoryLength = anomalyPValueHistoryLength)\n",
    "\n",
    "    // For this model, fitting doesn't matter.\n",
    "    let trainedAnomalyModel = anomalyPipeline.Fit(ctx.Data.LoadFromEnumerable(List<Input>()))\n",
    "    let transformedAnomalyData = trainedAnomalyModel.Transform(dataView)\n",
    "    let anomalies = \n",
    "        ctx.Data.CreateEnumerable<Prediction>(transformedAnomalyData, reuseRowObject = false)\n",
    "    let anomaliesWithTimeStamp : (double * double * double) seq = \n",
    "        anomalies\n",
    "        |> Seq.mapi(fun i p -> p.Prediction.[0], p.Prediction.[1], fst (input.ElementAt(i)))\n",
    "\n",
    "    anomalies"
   ]
  },
  {
   "cell_type": "code",
   "execution_count": null,
   "metadata": {
    "dotnet_interactive": {
     "language": "fsharp"
    }
   },
   "outputs": [],
   "source": [
    "let applyRule (rule : Rule) (traceEvent : TraceEvent) : unit =\n",
    "\n",
    "    // Helper fn checks if the condition is met for the traceEvent.\n",
    "    let checkCondition : bool =\n",
    "        let condition : Condition = rule.Condition\n",
    "\n",
    "        // Match the event name.\n",
    "        let matchEventName (rule : Rule) (traceEvent : TraceEvent): bool = \n",
    "            traceEvent.EventName = condition.Conditioner.ConditionerEvent\n",
    "        \n",
    "        // Check if the specified payload exists.\n",
    "        let checkPayload (rule : Rule) (traceEvent : TraceEvent): bool = \n",
    "            if traceEvent.PayloadNames.Contains condition.Conditioner.ConditionerProperty then true\n",
    "            else false\n",
    "\n",
    "        // Check if the condition matches.\n",
    "        let checkConditionValue (rule : Rule) (traceEvent : TraceEvent): bool =\n",
    "            let payload : double   = Double.Parse(traceEvent.PayloadByName(condition.Conditioner.ConditionerProperty).ToString())\n",
    "            let conditionalValue   : ConditionalValue = rule.Condition.ConditionalValue\n",
    "\n",
    "            match conditionalValue with\n",
    "            | ConditionalValue.Value value ->\n",
    "                match condition.ConditionType with\n",
    "                | ConditionType.Equal              -> payload = value\n",
    "                | ConditionType.GreaterThan        -> payload > value\n",
    "                | ConditionType.GreaterThanEqualTo -> payload >= value\n",
    "                | ConditionType.LessThan           -> payload < value\n",
    "                | ConditionType.LessThanEqualTo    -> payload <= value\n",
    "                | ConditionType.NotEqual           -> payload <> value\n",
    "            | ConditionalValue.AnomalyDetectionType anomalyDetectionType ->\n",
    "                match anomalyDetectionType with\n",
    "                | AnomalyDetectionType.DetectIIDSpike ->\n",
    "                    false // TODO: Fill This.\n",
    "\n",
    "        // Match on Event Name, if the payload exists and the condition based on the trace event is met.\n",
    "        matchEventName rule traceEvent && checkPayload rule traceEvent && checkConditionValue rule traceEvent\n",
    "\n",
    "    let apply (action : Action): unit = \n",
    "\n",
    "        // Helper fn responsible for getting the call stack from a particular trace event.\n",
    "        let processCallStack (callStack : TraceCallStack) : unit =\n",
    "            use symbolReader = new SymbolReader(TextWriter.Null, SymbolPath.SymbolPathFromEnvironment)\n",
    "\n",
    "            let printStackFrame (callStack : TraceCallStack) : unit =\n",
    "                if not (isNull ( callStack.CodeAddress.ModuleFile))\n",
    "                then\n",
    "                    callStack.CodeAddress.CodeAddresses.LookupSymbolsForModule(symbolReader, callStack.CodeAddress.ModuleFile)\n",
    "                    printfn \"%s!%s\" callStack.CodeAddress.ModuleName callStack.CodeAddress.FullMethodName\n",
    "\n",
    "            let rec processFrame (callStack : TraceCallStack) : unit =\n",
    "                if isNull callStack then ()\n",
    "                else\n",
    "                    printStackFrame callStack\n",
    "                    processFrame callStack.Caller\n",
    "            \n",
    "            processFrame (traceEvent.CallStack())\n",
    "\n",
    "        match action.ActionOperator with\n",
    "        | ActionOperator.Print ->\n",
    "            match action.ActionOperand with\n",
    "            | ActionOperand.Alert -> printfn $\"Alert!! {rule.OriginalRule} invoked as payload: {traceEvent.PayloadByName(rule.Condition.Conditioner.ConditionerProperty).ToString()}!\"\n",
    "            | ActionOperand.CallStack -> processCallStack (traceEvent.CallStack())\n",
    "    \n",
    "    if checkCondition = true then apply rule.Action\n",
    "    else ()"
   ]
  },
  {
   "cell_type": "code",
   "execution_count": null,
   "metadata": {
    "dotnet_interactive": {
     "language": "fsharp"
    }
   },
   "outputs": [],
   "source": [
    "let ETL_FILEPATH = @\"C:\\Users\\mukun\\OneDrive\\Documents\\CallstackShmuff.etl\\CallstackShmuff.etl\" \n",
    "\n",
    "let session = new TraceEventSession(\"TestSession2\", ETL_FILEPATH)\n",
    "let traceLog = TraceLog.OpenOrConvert(ETL_FILEPATH)\n",
    "\n",
    "let sequenceOfAllocations : TraceEvent seq =\n",
    "    traceLog.Events\n",
    "    |> Seq.filter(fun e -> e.ProcessName = \"GCRealTimeMon\" && e.EventName.Contains(\"GC/AllocationTick\"))\n",
    "    |> Seq.take 5"
   ]
  },
  {
   "cell_type": "code",
   "execution_count": null,
   "metadata": {
    "dotnet_interactive": {
     "language": "fsharp"
    }
   },
   "outputs": [
    {
     "name": "stdout",
     "output_type": "stream",
     "text": [
      "Alert!! GC/AllocationTick.AllocationAmount > 108000: Print Alert invoked as payload: 117752!\r\n",
      "Alert!! GC/AllocationTick.AllocationAmount > 108000: Print Alert invoked as payload: 109016!\r\n"
     ]
    }
   ],
   "source": [
    "let rule1       : string = \"GC/AllocationTick.AllocationAmount > 108000: Print Alert\"\n",
    "let parsedRule1 : Rule   = parseRule rule1\n",
    "\n",
    "let applyRule1 : unit =\n",
    "    sequenceOfAllocations\n",
    "    |> Seq.iter(fun e -> applyRule parsedRule1 e)"
   ]
  },
  {
   "cell_type": "code",
   "execution_count": null,
   "metadata": {
    "dotnet_interactive": {
     "language": "fsharp"
    }
   },
   "outputs": [],
   "source": [
    "let rule2 : string     = \"GC/AllocationTick.AllocationAmount isAnomaly detectIIDSpike: Print Alert\"\n",
    "let parsedRule2 : Rule = parseRule rule2\n",
    "\n",
    "let applyRule2 : unit =\n",
    "    sequenceOfAllocations\n",
    "    |> Seq.iter(fun e -> applyRule parsedRule2 e)"
   ]
  }
 ],
 "metadata": {
  "kernelspec": {
   "display_name": ".NET (F#)",
   "language": "F#",
   "name": ".net-fsharp"
  },
  "language_info": {
   "name": "F#"
  }
 },
 "nbformat": 4,
 "nbformat_minor": 2
}
