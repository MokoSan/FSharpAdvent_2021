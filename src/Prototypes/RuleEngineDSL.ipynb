{
 "cells": [
  {
   "cell_type": "markdown",
   "metadata": {
    "dotnet_interactive": {
     "language": "fsharp"
    }
   },
   "source": [
    "# Rule Engine DSL\n",
    "\n",
    "A rule consists of a __Condition__ and an __Action__. A condition demarcates a situation where the concomitant action is to applied."
   ]
  },
  {
   "cell_type": "code",
   "execution_count": null,
   "metadata": {
    "dotnet_interactive": {
     "language": "fsharp"
    }
   },
   "outputs": [
    {
     "data": {
      "text/html": [
       "<div><div></div><div></div><div><strong>Installed Packages</strong><ul><li><span>Microsoft.Diagnostics.Tracing.TraceEvent, 2.0.74</span></li></ul></div></div>"
      ]
     },
     "metadata": {},
     "output_type": "display_data"
    }
   ],
   "source": [
    "#r \"nuget:Microsoft.Diagnostics.Tracing.TraceEvent\""
   ]
  },
  {
   "cell_type": "code",
   "execution_count": null,
   "metadata": {
    "dotnet_interactive": {
     "language": "fsharp"
    }
   },
   "outputs": [],
   "source": [
    "open Microsoft.Diagnostics.Tracing.Analysis.GC\n",
    "open System"
   ]
  },
  {
   "cell_type": "markdown",
   "metadata": {},
   "source": [
    "## Condition "
   ]
  },
  {
   "cell_type": "code",
   "execution_count": null,
   "metadata": {
    "dotnet_interactive": {
     "language": "fsharp"
    }
   },
   "outputs": [],
   "source": [
    "// Format: EventName.Property Condition Value\n",
    "// For example: GCEnd.AllocationRate LessThan 100\n",
    "type ConditionerEvent = \n",
    "    | GCEnd\n",
    "\n",
    "type ConditionerProperty = \n",
    "    | SuspensionTimeMSec\n",
    "    | PauseTimeMSec\n",
    "\n",
    "type Conditioner = { ConditionerEvent: ConditionerEvent; ConditionerProperty : ConditionerProperty }\n",
    "\n",
    "type ConditionType = \n",
    "    | LessThan \n",
    "    | LessThanEqualTo\n",
    "    | GreaterThan\n",
    "    | GreaterThanEqualTo\n",
    "    | Equal\n",
    "    | NotEqual\n",
    "    | IsAnomaly\n",
    "\n",
    "type AnomalyDetectionMethod =\n",
    "    | Max \n",
    "\n",
    "type ConditionalValue = \n",
    "    | Value                  of double \n",
    "    | AnomalyDetectionMethod of AnomalyDetectionMethod \n",
    "\n",
    "type Condition = \n",
    "    {  Conditioner      : Conditioner;\n",
    "       ConditionType    : ConditionType;\n",
    "       ConditionalValue : ConditionalValue }"
   ]
  },
  {
   "cell_type": "markdown",
   "metadata": {},
   "source": [
    "## Action"
   ]
  },
  {
   "cell_type": "code",
   "execution_count": null,
   "metadata": {
    "dotnet_interactive": {
     "language": "fsharp"
    }
   },
   "outputs": [],
   "source": [
    "// For example: <Condition>;Print CallStack\n",
    "\n",
    "type ActionOperator = \n",
    "    |  Print\n",
    "\n",
    "type ActionOperand =\n",
    "    | Alert\n",
    "    | CallStack\n",
    "    //| HeapStats\n",
    "\n",
    "type Action = { ActionOperator: ActionOperator; ActionOperand: ActionOperand }"
   ]
  },
  {
   "cell_type": "markdown",
   "metadata": {},
   "source": [
    "## Rule: Combining Conditions and Actions"
   ]
  },
  {
   "cell_type": "code",
   "execution_count": null,
   "metadata": {
    "dotnet_interactive": {
     "language": "fsharp"
    }
   },
   "outputs": [],
   "source": [
    "type Rule = { Condition : Condition; Action : Action; }"
   ]
  },
  {
   "cell_type": "markdown",
   "metadata": {},
   "source": [
    "## Parser\n",
    "\n",
    "The goal is to parse the following types of Rules:\n",
    "\n",
    "1. ``GCEnd.PauseTimeMSec > 100 : Print CallStack``\n",
    "2. ``GCEnd.SuspensionDurationMSec IsAnomaly Spike: Print HeapStat``\n",
    "3. ``GCEnd.PauseDurationMSec >= 100: Print Alert``\n",
    "\n",
    "### Parser Logic\n",
    "1. Split on ``:``.\n",
    "2. First element of the split is the Condition.\n",
    "   1. Match the Condition Event and Property and associate them with a real type. \n",
    "   2. Match the Condition Type and the Value and match them with a real func.\n",
    "3. Second element of the split is the Action.\n",
    "   1. Match the Action Operator and the Operator."
   ]
  },
  {
   "cell_type": "markdown",
   "metadata": {},
   "source": [
    "### Parse Condition"
   ]
  },
  {
   "cell_type": "code",
   "execution_count": null,
   "metadata": {
    "dotnet_interactive": {
     "language": "fsharp"
    }
   },
   "outputs": [],
   "source": [
    "let parseCondition (conditionAsString : string) : Condition = \n",
    "\n",
    "    let splitCondition : string[] = conditionAsString.Split(\" \", StringSplitOptions.RemoveEmptyEntries)\n",
    "    \n",
    "    // Precondition check\n",
    "    if splitCondition.Length <> 3 \n",
    "    then failwith(\"Incorrect format of the condition. Format is: Event.Property Condition ConditionalValue. For example: GCEnd.SuspensionTimeMSec >= 300\")\n",
    "    \n",
    "    // Condition Event and Property\n",
    "    let parseConditioner : Conditioner = \n",
    "        let splitConditioner : string[] = splitCondition.[0].Split(\".\", StringSplitOptions.RemoveEmptyEntries)\n",
    "        let parseConditionEvent : ConditionerEvent = \n",
    "            match splitConditioner.[0].ToLower() with\n",
    "            | \"gcend\" -> ConditionerEvent.GCEnd\n",
    "            | _       -> failwith($\"{splitConditioner.[0]} is an unrecognized Conditioner Event.\")\n",
    "\n",
    "        let parseConditionProperty : ConditionerProperty =\n",
    "            match splitConditioner.[1].ToLower() with\n",
    "            | \"suspensiontimemsec\" -> ConditionerProperty.SuspensionTimeMSec\n",
    "            | \"pausetimemsec\"      -> ConditionerProperty.PauseTimeMSec \n",
    "            | _                    -> failwith($\"{splitConditioner.[1]} is an unrecognized Conditioner Property\")\n",
    "\n",
    "        { ConditionerEvent = parseConditionEvent; ConditionerProperty = ConditionerProperty.PauseTimeMSec }\n",
    "\n",
    "    // Condition Type\n",
    "    let parseConditionType : ConditionType =\n",
    "        match splitCondition.[1].ToLower() with\n",
    "        | \">\"  | \"greaterthan\"                                 -> ConditionType.GreaterThan \n",
    "        | \"<\"  | \"lessthan\"                                    -> ConditionType.LessThan\n",
    "        | \">=\" | \"greaterthanequalto\" | \"greaterthanorequalto\" -> ConditionType.GreaterThanEqualTo\n",
    "        | \"<=\" | \"lessthanequalto\"    | \"lessthanorequalto\"    -> ConditionType.LessThanEqualTo\n",
    "        | \"=\"  | \"equal\"              | \"equals\"               -> ConditionType.Equal\n",
    "        | \"!=\" | \"notequal\"                                    -> ConditionType.NotEqual\n",
    "        | \"isanomaly\"                                          -> ConditionType.IsAnomaly\n",
    "        | _                                                    -> failwith(\"${splitCondition.[1]} is an unrecognized condition type.\")\n",
    "\n",
    "    // Condition Value\n",
    "    let parseConditionValue : ConditionalValue =\n",
    "        let conditionalValueAsString = splitCondition.[2]\n",
    "        let checkDouble, doubleValue = Double.TryParse conditionalValueAsString \n",
    "        if checkDouble then ConditionalValue.Value(doubleValue) \n",
    "        else match conditionalValueAsString.ToLower() with\n",
    "        | \"max\" -> ConditionalValue.AnomalyDetectionMethod( AnomalyDetectionMethod.Max )\n",
    "        | _     -> failwith($\"{conditionalValueAsString} is an unrecognized Anomaly Detection Method.\")\n",
    "\n",
    "    { Conditioner = parseConditioner; ConditionType = parseConditionType; ConditionalValue = parseConditionValue }"
   ]
  },
  {
   "cell_type": "markdown",
   "metadata": {},
   "source": [
    "### Testing Conditional Parsing"
   ]
  },
  {
   "cell_type": "code",
   "execution_count": null,
   "metadata": {
    "dotnet_interactive": {
     "language": "fsharp"
    }
   },
   "outputs": [
    {
     "data": {
      "text/html": [
       "<table><thead><tr><th>Conditioner</th><th>ConditionType</th><th>ConditionalValue</th></tr></thead><tbody><tr><td><div class=\"dni-plaintext\">{ { ConditionerEvent = GCEnd\n",
       "  ConditionerProperty = PauseTimeMSec }: ConditionerEvent: GCEnd, ConditionerProperty: PauseTimeMSec }</div></td><td><div class=\"dni-plaintext\">GreaterThan</div></td><td><div class=\"dni-plaintext\">{ Value 100.0: Item: 100 }</div></td></tr></tbody></table>"
      ]
     },
     "metadata": {},
     "output_type": "display_data"
    }
   ],
   "source": [
    "let testConditional1   = \"GCEnd.SuspensionTimeMSec > 100\"\n",
    "let parsedConditional1 = parseCondition testConditional1\n",
    "display(parsedConditional1)"
   ]
  },
  {
   "cell_type": "code",
   "execution_count": null,
   "metadata": {
    "dotnet_interactive": {
     "language": "fsharp"
    }
   },
   "outputs": [
    {
     "data": {
      "text/html": [
       "<table><thead><tr><th>Conditioner</th><th>ConditionType</th><th>ConditionalValue</th></tr></thead><tbody><tr><td><div class=\"dni-plaintext\">{ { ConditionerEvent = GCEnd\n",
       "  ConditionerProperty = PauseTimeMSec }: ConditionerEvent: GCEnd, ConditionerProperty: PauseTimeMSec }</div></td><td><div class=\"dni-plaintext\">IsAnomaly</div></td><td><div class=\"dni-plaintext\">{ AnomalyDetectionMethod Max: Item: Max }</div></td></tr></tbody></table>"
      ]
     },
     "metadata": {},
     "output_type": "display_data"
    }
   ],
   "source": [
    "let testConditional2   = \"GCEnd.SuspensionTimeMSec isAnomaly Max\"\n",
    "let parsedConditional2 = parseCondition testConditional2\n",
    "display(parsedConditional2)"
   ]
  },
  {
   "cell_type": "markdown",
   "metadata": {},
   "source": [
    "### Parse Action"
   ]
  },
  {
   "cell_type": "code",
   "execution_count": null,
   "metadata": {
    "dotnet_interactive": {
     "language": "fsharp"
    }
   },
   "outputs": [],
   "source": [
    "let parseAction (actionAsAString : string) : Action = \n",
    "    let splitAction : string[] = actionAsAString.Split(\" \", StringSplitOptions.RemoveEmptyEntries)\n",
    "\n",
    "    // ActionOperator\n",
    "    let parseActionOperator : ActionOperator = \n",
    "        match splitAction.[0].ToLower() with\n",
    "        | \"print\" -> ActionOperator.Print\n",
    "        | _       -> failwith($\"{splitAction.[0]} is an unrecognized Action Operator.\")\n",
    "\n",
    "    // ActionOperand \n",
    "    let parseActionOperand : ActionOperand = \n",
    "        match splitAction.[1].ToLower() with\n",
    "        | \"alert\"     -> ActionOperand.Alert\n",
    "        | \"callstack\" -> ActionOperand.CallStack\n",
    "        | _           -> failwith($\"{splitAction.[1]} is an unrecognized Action Operand.\")\n",
    "\n",
    "    { ActionOperator = parseActionOperator; ActionOperand = parseActionOperand }"
   ]
  },
  {
   "cell_type": "markdown",
   "metadata": {},
   "source": [
    "### Testing Action Parsing"
   ]
  },
  {
   "cell_type": "markdown",
   "metadata": {},
   "source": [
    "#### Success Case"
   ]
  },
  {
   "cell_type": "code",
   "execution_count": null,
   "metadata": {
    "dotnet_interactive": {
     "language": "fsharp"
    }
   },
   "outputs": [
    {
     "data": {
      "text/html": [
       "<table><thead><tr><th>ActionOperator</th><th>ActionOperand</th></tr></thead><tbody><tr><td><div class=\"dni-plaintext\">Print</div></td><td><div class=\"dni-plaintext\">CallStack</div></td></tr></tbody></table>"
      ]
     },
     "metadata": {},
     "output_type": "display_data"
    }
   ],
   "source": [
    "let testActionParsing : string = \"Print CallStack\"\n",
    "display(parseAction testActionParsing)"
   ]
  },
  {
   "cell_type": "markdown",
   "metadata": {},
   "source": [
    "#### Failure Case"
   ]
  },
  {
   "cell_type": "code",
   "execution_count": null,
   "metadata": {
    "dotnet_interactive": {
     "language": "fsharp"
    }
   },
   "outputs": [
    {
     "ename": "Error",
     "evalue": "System.Exception: Value is an unrecognized Action Operand.\r\n   at FSI_0177.parseAction(String actionAsAString)\r\n   at <StartupCode$FSI_0179>.$FSI_0179.main@()",
     "output_type": "error",
     "traceback": [
      "System.Exception: Value is an unrecognized Action Operand.\r\n",
      "   at FSI_0177.parseAction(String actionAsAString)\r\n",
      "   at <StartupCode$FSI_0179>.$FSI_0179.main@()"
     ]
    }
   ],
   "source": [
    "let testActionParsingWithFailure : string = \"Print Value\"\n",
    "display(parseAction testActionParsingWithFailure)"
   ]
  },
  {
   "cell_type": "markdown",
   "metadata": {},
   "source": [
    "### Parsing a Rule"
   ]
  },
  {
   "cell_type": "code",
   "execution_count": null,
   "metadata": {
    "dotnet_interactive": {
     "language": "fsharp"
    }
   },
   "outputs": [],
   "source": [
    "let parseRule (ruleAsString : string) : Rule = \n",
    "    let splitRuleAsAString : string[] = ruleAsString.Split(\":\")\n",
    "    let condition : Condition = parseCondition splitRuleAsAString.[0]\n",
    "    let action : Action = parseAction splitRuleAsAString.[1]\n",
    "    { Condition = condition; Action = action }"
   ]
  },
  {
   "cell_type": "markdown",
   "metadata": {},
   "source": [
    "### Testing Parsing a Rule"
   ]
  },
  {
   "cell_type": "code",
   "execution_count": null,
   "metadata": {
    "dotnet_interactive": {
     "language": "fsharp"
    }
   },
   "outputs": [
    {
     "data": {
      "text/html": [
       "<table><thead><tr><th>Condition</th><th>Action</th></tr></thead><tbody><tr><td><div class=\"dni-plaintext\">{ { Conditioner = { ConditionerEvent = GCEnd\n",
       "                  ConditionerProperty = PauseTimeMSec }\n",
       "  ConditionType = GreaterThan\n",
       "  ConditionalValue = Value 100.0 }: Conditioner: { { ConditionerEvent = GCEnd\n",
       "  ConditionerProperty = PauseTimeMSec }: ConditionerEvent: GCEnd, ConditionerProperty: PauseTimeMSec }, ConditionType: GreaterThan, ConditionalValue: { Value 100.0: Item: 100 } }</div></td><td><div class=\"dni-plaintext\">{ { ActionOperator = Print\n",
       "  ActionOperand = CallStack }: ActionOperator: Print, ActionOperand: CallStack }</div></td></tr></tbody></table>"
      ]
     },
     "metadata": {},
     "output_type": "display_data"
    }
   ],
   "source": [
    "let testRule1 = \"GCEnd.SuspensionTimeMSec > 100 : Print CallStack\"\n",
    "let parsedTestRule1 = parseRule testRule1\n",
    "display(parsedTestRule1)"
   ]
  },
  {
   "cell_type": "code",
   "execution_count": null,
   "metadata": {
    "dotnet_interactive": {
     "language": "fsharp"
    }
   },
   "outputs": [
    {
     "data": {
      "text/html": [
       "<table><thead><tr><th>Condition</th><th>Action</th></tr></thead><tbody><tr><td><div class=\"dni-plaintext\">{ { Conditioner = { ConditionerEvent = GCEnd\n",
       "                  ConditionerProperty = PauseTimeMSec }\n",
       "  ConditionType = GreaterThanEqualTo\n",
       "  ConditionalValue = Value 300.0 }: Conditioner: { { ConditionerEvent = GCEnd\n",
       "  ConditionerProperty = PauseTimeMSec }: ConditionerEvent: GCEnd, ConditionerProperty: PauseTimeMSec }, ConditionType: GreaterThanEqualTo, ConditionalValue: { Value 300.0: Item: 300 } }</div></td><td><div class=\"dni-plaintext\">{ { ActionOperator = Print\n",
       "  ActionOperand = Alert }: ActionOperator: Print, ActionOperand: Alert }</div></td></tr></tbody></table>"
      ]
     },
     "metadata": {},
     "output_type": "display_data"
    }
   ],
   "source": [
    "let testRule2 = \"GCEnd.PauseTimeMSec >= 300 : Print Alert\"\n",
    "let parsedTestRule2 = parseRule testRule2\n",
    "display(parsedTestRule2)"
   ]
  }
 ],
 "metadata": {
  "kernelspec": {
   "display_name": ".NET (F#)",
   "language": "F#",
   "name": ".net-fsharp"
  },
  "language_info": {
   "name": "F#"
  }
 },
 "nbformat": 4,
 "nbformat_minor": 2
}
