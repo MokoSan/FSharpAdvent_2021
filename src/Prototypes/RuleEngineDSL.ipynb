{
 "cells": [
  {
   "cell_type": "markdown",
   "metadata": {
    "dotnet_interactive": {
     "language": "fsharp"
    }
   },
   "source": [
    "# Rule Engine DSL\n",
    "\n",
    "A rule consists of a __Condition__ and an __Action__. A condition demarcates a situation where the concomitant action is to applied."
   ]
  },
  {
   "cell_type": "code",
   "execution_count": null,
   "metadata": {
    "dotnet_interactive": {
     "language": "fsharp"
    }
   },
   "outputs": [
    {
     "data": {
      "text/html": [
       "<div><div></div><div></div><div><strong>Installed Packages</strong><ul><li><span>Microsoft.Diagnostics.Tracing.TraceEvent, 2.0.74</span></li></ul></div></div>"
      ]
     },
     "metadata": {},
     "output_type": "display_data"
    }
   ],
   "source": [
    "#r \"nuget:Microsoft.Diagnostics.Tracing.TraceEvent\""
   ]
  },
  {
   "cell_type": "code",
   "execution_count": null,
   "metadata": {
    "dotnet_interactive": {
     "language": "fsharp"
    }
   },
   "outputs": [],
   "source": [
    "open System;\n",
    "open System.Linq;\n",
    "open Microsoft.Diagnostics.Tracing;\n",
    "open Microsoft.Diagnostics.Tracing.Analysis;\n",
    "open Microsoft.Diagnostics.Tracing.Etlx;\n",
    "open Microsoft.Diagnostics.Tracing.Session;\n",
    "open Microsoft.Diagnostics.Tracing.Parsers.Clr;\n",
    "open Microsoft.Diagnostics.Tracing.Analysis.GC;"
   ]
  },
  {
   "cell_type": "markdown",
   "metadata": {},
   "source": [
    "## Condition "
   ]
  },
  {
   "cell_type": "code",
   "execution_count": null,
   "metadata": {
    "dotnet_interactive": {
     "language": "fsharp"
    }
   },
   "outputs": [],
   "source": [
    "// Format: EventName.Property Condition Value\n",
    "// For example: GCEnd.AllocationRate LessThan 100\n",
    "\n",
    "// TODO: Decide if it's better to type?\n",
    "// Conditioner Event is the name of the type of event.\n",
    "type ConditionerEvent    = string\n",
    "// Conditioner Property is the name of the property of the event.\n",
    "type ConditionerProperty = string\n",
    "\n",
    "type Conditioner = { ConditionerEvent: ConditionerEvent; ConditionerProperty : ConditionerProperty }\n",
    "\n",
    "type ConditionType = \n",
    "    | LessThan\n",
    "    | LessThanEqualTo\n",
    "    | GreaterThan\n",
    "    | GreaterThanEqualTo\n",
    "    | Equal\n",
    "    | NotEqual\n",
    "\n",
    "type ConditionalValue = double \n",
    "\n",
    "type Condition = \n",
    "    {  Conditioner      : Conditioner;\n",
    "       ConditionType    : ConditionType;\n",
    "       ConditionalValue : ConditionalValue }"
   ]
  },
  {
   "cell_type": "markdown",
   "metadata": {},
   "source": [
    "#### Parsing Logic"
   ]
  },
  {
   "cell_type": "code",
   "execution_count": null,
   "metadata": {
    "dotnet_interactive": {
     "language": "fsharp"
    }
   },
   "outputs": [],
   "source": [
    "let parseCondition (conditionAsString : string) : Condition = \n",
    "\n",
    "    let splitCondition : string[] = conditionAsString.Split(\" \", StringSplitOptions.RemoveEmptyEntries)\n",
    "    \n",
    "    // Precondition check\n",
    "    if splitCondition.Length <> 3\n",
    "    then failwith(\"Incorrect format of the condition. Format is: Event.Property Condition ConditionalValue. For example: GCEnd.SuspensionTimeMSec >= 298\")\n",
    "    \n",
    "    // Condition Event and Property\n",
    "    let parseConditioner : Conditioner = \n",
    "        let splitConditioner : string[] = splitCondition.[0].Split(\".\", StringSplitOptions.RemoveEmptyEntries)\n",
    "        let parseConditionEvent : ConditionerEvent = splitConditioner.[0]\n",
    "        let parseConditionProperty : ConditionerProperty = splitConditioner.[1]\n",
    "\n",
    "        { ConditionerEvent = parseConditionEvent; ConditionerProperty = parseConditionProperty }\n",
    "\n",
    "    // Condition Type\n",
    "    let parseConditionType : ConditionType =\n",
    "        match splitCondition.[1].ToLower() with\n",
    "        | \">\"  | \"greaterthan\"                                 -> ConditionType.GreaterThan \n",
    "        | \"<\"  | \"lessthan\"                                    -> ConditionType.LessThan\n",
    "        | \">=\" | \"greaterthanequalto\" | \"greaterthanorequalto\" -> ConditionType.GreaterThanEqualTo\n",
    "        | \"<=\" | \"lessthanequalto\"    | \"lessthanorequalto\"    -> ConditionType.LessThanEqualTo\n",
    "        | \"=\"  | \"equal\"              | \"equals\"               -> ConditionType.Equal\n",
    "        | \"!=\" | \"notequal\"                                    -> ConditionType.NotEqual\n",
    "        | _                                                    -> failwith(\"${splitCondition.[1]} is an unrecognized condition type.\")\n",
    "\n",
    "    // Condition Value\n",
    "    let parseConditionValue : ConditionalValue =\n",
    "        let conditionalValueAsString = splitCondition.[2]\n",
    "        let checkDouble, doubleValue = Double.TryParse conditionalValueAsString \n",
    "        if checkDouble then doubleValue\n",
    "        else failwith($\"{doubleValue} isn't a double.\")\n",
    "\n",
    "    { Conditioner = parseConditioner; ConditionType = parseConditionType; ConditionalValue = parseConditionValue }"
   ]
  },
  {
   "cell_type": "markdown",
   "metadata": {},
   "source": [
    "## Action"
   ]
  },
  {
   "cell_type": "code",
   "execution_count": null,
   "metadata": {
    "dotnet_interactive": {
     "language": "fsharp"
    }
   },
   "outputs": [],
   "source": [
    "// For example: <Condition>; Print CallStack\n",
    "\n",
    "type ActionOperator = \n",
    "    |  Print\n",
    "\n",
    "type ActionOperand =\n",
    "    | Alert\n",
    "    | CallStack\n",
    "\n",
    "type Action = { ActionOperator: ActionOperator; ActionOperand: ActionOperand }"
   ]
  },
  {
   "cell_type": "markdown",
   "metadata": {},
   "source": [
    "#### Parse Action"
   ]
  },
  {
   "cell_type": "code",
   "execution_count": null,
   "metadata": {
    "dotnet_interactive": {
     "language": "fsharp"
    }
   },
   "outputs": [],
   "source": [
    "let parseAction (actionAsAString : string) : Action = \n",
    "    let splitAction : string[] = actionAsAString.Split(\" \", StringSplitOptions.RemoveEmptyEntries)\n",
    "\n",
    "    // ActionOperator\n",
    "    let parseActionOperator : ActionOperator = \n",
    "        match splitAction.[0].ToLower() with\n",
    "        | \"print\" -> ActionOperator.Print\n",
    "        | _       -> failwith($\"{splitAction.[0]} is an unrecognized Action Operator.\")\n",
    "\n",
    "    // ActionOperand \n",
    "    let parseActionOperand : ActionOperand = \n",
    "        match splitAction.[1].ToLower() with\n",
    "        | \"alert\"     -> ActionOperand.Alert\n",
    "        | \"callstack\" -> ActionOperand.CallStack\n",
    "        | _           -> failwith($\"{splitAction.[1]} is an unrecognized Action Operand.\")\n",
    "\n",
    "    { ActionOperator = parseActionOperator; ActionOperand = parseActionOperand }"
   ]
  },
  {
   "cell_type": "markdown",
   "metadata": {},
   "source": [
    "## Rule: Combining Conditions and Actions"
   ]
  },
  {
   "cell_type": "code",
   "execution_count": null,
   "metadata": {
    "dotnet_interactive": {
     "language": "fsharp"
    }
   },
   "outputs": [],
   "source": [
    "type Rule             = { Condition : Condition; Action : Action; OriginalRule : string }\n",
    "type RuleApplier      = Rule * TraceEvent -> unit\n",
    "type ConditionChecker = Rule * TraceEvent -> bool"
   ]
  },
  {
   "cell_type": "code",
   "execution_count": null,
   "metadata": {
    "dotnet_interactive": {
     "language": "fsharp"
    }
   },
   "outputs": [],
   "source": [
    "let applyRule (rule : Rule) (traceEvent : TraceEvent) : unit =\n",
    "\n",
    "    // Helper fn checks if the condition is met for the traceEvent.\n",
    "    let checkCondition : bool =\n",
    "        let condition : Condition = rule.Condition\n",
    "\n",
    "        // Match the event name.\n",
    "        let matchEventName (rule : Rule) (traceEvent : TraceEvent): bool = \n",
    "            traceEvent.EventName = condition.Conditioner.ConditionerEvent\n",
    "        \n",
    "        // Check if the specified payload exists.\n",
    "        let checkPayload (rule : Rule) (traceEvent : TraceEvent): bool = \n",
    "            if traceEvent.PayloadNames.Contains condition.Conditioner.ConditionerProperty then true\n",
    "            else false\n",
    "\n",
    "        // Check if the condition matches.\n",
    "        let checkConditionValue (rule : Rule) (traceEvent : TraceEvent): bool =\n",
    "            let payload : double   = Double.Parse(traceEvent.PayloadByName(condition.Conditioner.ConditionerProperty).ToString())\n",
    "            let value   : double   = rule.Condition.ConditionalValue\n",
    "\n",
    "            match condition.ConditionType with\n",
    "            | ConditionType.Equal              -> payload = value\n",
    "            | ConditionType.GreaterThan        -> payload > value\n",
    "            | ConditionType.GreaterThanEqualTo -> payload >= value\n",
    "            | ConditionType.LessThan           -> payload < value\n",
    "            | ConditionType.LessThanEqualTo    -> payload <= value\n",
    "            | ConditionType.NotEqual           -> payload <> value\n",
    "\n",
    "        // Match on Event Name, if the payload exists and the condition based on the trace event is met.\n",
    "        matchEventName rule traceEvent && checkPayload rule traceEvent && checkConditionValue rule traceEvent\n",
    "\n",
    "    let apply (action : Action): unit = \n",
    "        match action.ActionOperator with\n",
    "        | ActionOperator.Print ->\n",
    "            match action.ActionOperand with\n",
    "            | ActionOperand.Alert -> printfn $\"Alert!! {rule.OriginalRule} invoked as payload: {traceEvent.PayloadByName(rule.Condition.Conditioner.ConditionerProperty).ToString()}!\"\n",
    "            | ActionOperand.CallStack -> () // TODO: FILL THIS.\n",
    "    \n",
    "    if checkCondition = true then apply rule.Action\n",
    "    else ()"
   ]
  },
  {
   "cell_type": "markdown",
   "metadata": {},
   "source": [
    "## Parser\n",
    "\n",
    "The goal is to parse the following types of Rules:\n",
    "\n",
    "1. ``GCEnd.PauseTimeMSec > 100 : Print CallStack``\n",
    "2. ``GCEnd.SuspensionDurationMSec IsAnomaly Spike: Print HeapStat``\n",
    "3. ``GCEnd.PauseDurationMSec >= 100: Print Alert``\n",
    "\n",
    "### Parser Logic\n",
    "1. Split on ``:``.\n",
    "2. First element of the split is the Condition.\n",
    "   1. Match the Condition Event and Property and associate them with a real type. \n",
    "   2. Match the Condition Type and the Value and match them with a real func.\n",
    "3. Second element of the split is the Action.\n",
    "   1. Match the Action Operator and the Operator."
   ]
  },
  {
   "cell_type": "markdown",
   "metadata": {},
   "source": [
    "### Testing Conditional Parsing"
   ]
  },
  {
   "cell_type": "code",
   "execution_count": null,
   "metadata": {
    "dotnet_interactive": {
     "language": "fsharp"
    }
   },
   "outputs": [
    {
     "data": {
      "text/html": [
       "<table><thead><tr><th>Conditioner</th><th>ConditionType</th><th>ConditionalValue</th></tr></thead><tbody><tr><td><div class=\"dni-plaintext\">{ { ConditionerEvent = &quot;GCEnd&quot;\n",
       "  ConditionerProperty = &quot;SuspensionTimeMSec&quot; }: ConditionerEvent: GCEnd, ConditionerProperty: SuspensionTimeMSec }</div></td><td><div class=\"dni-plaintext\">GreaterThan</div></td><td><div class=\"dni-plaintext\">100</div></td></tr></tbody></table>"
      ]
     },
     "metadata": {},
     "output_type": "display_data"
    }
   ],
   "source": [
    "let testConditional1   = \"GCEnd.SuspensionTimeMSec > 100\"\n",
    "let parsedConditional1 = parseCondition testConditional1\n",
    "display(parsedConditional1)"
   ]
  },
  {
   "cell_type": "markdown",
   "metadata": {},
   "source": [
    "### Testing Action Parsing"
   ]
  },
  {
   "cell_type": "markdown",
   "metadata": {},
   "source": [
    "#### Success Case"
   ]
  },
  {
   "cell_type": "code",
   "execution_count": null,
   "metadata": {
    "dotnet_interactive": {
     "language": "fsharp"
    }
   },
   "outputs": [
    {
     "data": {
      "text/html": [
       "<table><thead><tr><th>ActionOperator</th><th>ActionOperand</th></tr></thead><tbody><tr><td><div class=\"dni-plaintext\">Print</div></td><td><div class=\"dni-plaintext\">CallStack</div></td></tr></tbody></table>"
      ]
     },
     "metadata": {},
     "output_type": "display_data"
    }
   ],
   "source": [
    "let testActionParsing : string = \"Print CallStack\"\n",
    "display(parseAction testActionParsing)"
   ]
  },
  {
   "cell_type": "markdown",
   "metadata": {},
   "source": [
    "#### Failure Case"
   ]
  },
  {
   "cell_type": "code",
   "execution_count": null,
   "metadata": {
    "dotnet_interactive": {
     "language": "fsharp"
    }
   },
   "outputs": [
    {
     "ename": "Error",
     "evalue": "System.Exception: Value is an unrecognized Action Operand.\r\n   at FSI_0386.parseAction(String actionAsAString)\r\n   at <StartupCode$FSI_0391>.$FSI_0391.main@()",
     "output_type": "error",
     "traceback": [
      "System.Exception: Value is an unrecognized Action Operand.\r\n",
      "   at FSI_0386.parseAction(String actionAsAString)\r\n",
      "   at <StartupCode$FSI_0391>.$FSI_0391.main@()"
     ]
    }
   ],
   "source": [
    "let testActionParsingWithFailure : string = \"Print Value\"\n",
    "display(parseAction testActionParsingWithFailure)"
   ]
  },
  {
   "cell_type": "markdown",
   "metadata": {},
   "source": [
    "### Parsing a Rule"
   ]
  },
  {
   "cell_type": "code",
   "execution_count": null,
   "metadata": {
    "dotnet_interactive": {
     "language": "fsharp"
    }
   },
   "outputs": [],
   "source": [
    "let parseRule (ruleAsString : string) : Rule = \n",
    "    let splitRuleAsAString : string[] = ruleAsString.Split(\":\")\n",
    "    let condition : Condition = parseCondition splitRuleAsAString.[0]\n",
    "    let action : Action = parseAction splitRuleAsAString.[1]\n",
    "    { Condition = condition; Action = action; OriginalRule = ruleAsString }"
   ]
  },
  {
   "cell_type": "markdown",
   "metadata": {},
   "source": [
    "### Testing Parsing a Rule"
   ]
  },
  {
   "cell_type": "code",
   "execution_count": null,
   "metadata": {
    "dotnet_interactive": {
     "language": "fsharp"
    }
   },
   "outputs": [
    {
     "data": {
      "text/html": [
       "<table><thead><tr><th>Condition</th><th>Action</th><th>OriginalRule</th></tr></thead><tbody><tr><td><div class=\"dni-plaintext\">{ { Conditioner = { ConditionerEvent = &quot;GCEnd&quot;\n",
       "                  ConditionerProperty = &quot;SuspensionTimeMSec&quot; }\n",
       "  ConditionType = GreaterThan\n",
       "  ConditionalValue = 100.0 }: Conditioner: { { ConditionerEvent = &quot;GCEnd&quot;\n",
       "  ConditionerProperty = &quot;SuspensionTimeMSec&quot; }: ConditionerEvent: GCEnd, ConditionerProperty: SuspensionTimeMSec }, ConditionType: GreaterThan, ConditionalValue: 100 }</div></td><td><div class=\"dni-plaintext\">{ { ActionOperator = Print\n",
       "  ActionOperand = CallStack }: ActionOperator: Print, ActionOperand: CallStack }</div></td><td><div class=\"dni-plaintext\">GCEnd.SuspensionTimeMSec &gt; 100 : Print CallStack</div></td></tr></tbody></table>"
      ]
     },
     "metadata": {},
     "output_type": "display_data"
    }
   ],
   "source": [
    "let testRule1 = \"GCEnd.SuspensionTimeMSec > 100 : Print CallStack\"\n",
    "let parsedTestRule1 = parseRule testRule1\n",
    "display(parsedTestRule1)"
   ]
  },
  {
   "cell_type": "code",
   "execution_count": null,
   "metadata": {
    "dotnet_interactive": {
     "language": "fsharp"
    }
   },
   "outputs": [
    {
     "data": {
      "text/html": [
       "<table><thead><tr><th>Condition</th><th>Action</th><th>OriginalRule</th></tr></thead><tbody><tr><td><div class=\"dni-plaintext\">{ { Conditioner = { ConditionerEvent = &quot;GCEnd&quot;\n",
       "                  ConditionerProperty = &quot;PauseTimeMSec&quot; }\n",
       "  ConditionType = GreaterThanEqualTo\n",
       "  ConditionalValue = 300.0 }: Conditioner: { { ConditionerEvent = &quot;GCEnd&quot;\n",
       "  ConditionerProperty = &quot;PauseTimeMSec&quot; }: ConditionerEvent: GCEnd, ConditionerProperty: PauseTimeMSec }, ConditionType: GreaterThanEqualTo, ConditionalValue: 300 }</div></td><td><div class=\"dni-plaintext\">{ { ActionOperator = Print\n",
       "  ActionOperand = Alert }: ActionOperator: Print, ActionOperand: Alert }</div></td><td><div class=\"dni-plaintext\">GCEnd.PauseTimeMSec &gt;= 300 : Print Alert</div></td></tr></tbody></table>"
      ]
     },
     "metadata": {},
     "output_type": "display_data"
    }
   ],
   "source": [
    "let testRule2 = \"GCEnd.PauseTimeMSec >= 300 : Print Alert\"\n",
    "let parsedTestRule2 = parseRule testRule2\n",
    "display(parsedTestRule2)"
   ]
  },
  {
   "cell_type": "markdown",
   "metadata": {},
   "source": [
    "## Combining the Trace Log API With The Rule Engine"
   ]
  },
  {
   "cell_type": "code",
   "execution_count": null,
   "metadata": {
    "dotnet_interactive": {
     "language": "fsharp"
    }
   },
   "outputs": [
    {
     "name": "stdout",
     "output_type": "stream",
     "text": [
      "Alert!! GC/AllocationTick.AllocationAmount > 107000: Print Alert invoked as payload: 107376!\r\n",
      "Alert!! GC/AllocationTick.AllocationAmount > 107000: Print Alert invoked as payload: 107136!\r\n",
      "Alert!! GC/AllocationTick.AllocationAmount > 107000: Print Alert invoked as payload: 107208!\r\n"
     ]
    }
   ],
   "source": [
    "let ETL_FILEPATH = @\"C:\\Users\\mukun\\OneDrive\\Documents\\CallstackShmuff.etl\\CallstackShmuff.etl\" \n",
    "\n",
    "let session = new TraceEventSession(\"TestSession2\", ETL_FILEPATH)\n",
    "let traceLog = TraceLog.OpenOrConvert(ETL_FILEPATH)\n",
    "\n",
    "let rule : string     = \"GC/AllocationTick.AllocationAmount > 107000: Print Alert\"\n",
    "let parsedRule : Rule = parseRule(rule)\n",
    "\n",
    "let allocationAmountForDevenv =\n",
    "    traceLog.Events\n",
    "    |> Seq.filter(fun e -> e.ProcessName = \"devenv\" && e.EventName.Contains(\"GC/AllocationTick\"))\n",
    "    |> Seq.take 5\n",
    "    |> Seq.iter(fun e -> applyRule parsedRule e)"
   ]
  }
 ],
 "metadata": {
  "kernelspec": {
   "display_name": ".NET (F#)",
   "language": "F#",
   "name": ".net-fsharp"
  },
  "language_info": {
   "name": "F#"
  }
 },
 "nbformat": 4,
 "nbformat_minor": 2
}
