{
 "cells": [
  {
   "cell_type": "markdown",
   "metadata": {
    "dotnet_interactive": {
     "language": "fsharp"
    }
   },
   "source": [
    "# Anomaly Detection With The TraceLog API"
   ]
  },
  {
   "cell_type": "code",
   "execution_count": null,
   "metadata": {
    "dotnet_interactive": {
     "language": "fsharp"
    }
   },
   "outputs": [
    {
     "data": {
      "text/html": [
       "<div><div></div><div></div><div><strong>Installed Packages</strong><ul><li><span>Microsoft.Diagnostics.Tracing.TraceEvent, 2.0.74</span></li><li><span>Microsoft.ML, 1.7.0</span></li><li><span>Microsoft.ML.TimeSeries, 1.7.0</span></li><li><span>XPlot.GoogleCharts, 3.0.1</span></li><li><span>XPlot.Plotly, 4.0.6</span></li></ul></div></div>"
      ]
     },
     "metadata": {},
     "output_type": "display_data"
    }
   ],
   "source": [
    "#r \"nuget:Microsoft.Diagnostics.Tracing.TraceEvent\"\n",
    "#r \"nuget:XPlot.Plotly\"\n",
    "#r \"nuget:XPlot.GoogleCharts\"\n",
    "#r \"nuget:Microsoft.ML\"\n",
    "#r \"nuget:Microsoft.ML.TimeSeries\"\n",
    "\n",
    "open Microsoft.Diagnostics.Tracing;\n",
    "open Microsoft.Diagnostics.Tracing.Analysis;\n",
    "open Microsoft.Diagnostics.Tracing.Etlx;\n",
    "open Microsoft.Diagnostics.Tracing.Session;\n",
    "open Microsoft.Diagnostics.Tracing.Parsers.Clr;\n",
    "open Microsoft.ML\n",
    "open Microsoft.ML.Data\n",
    "open Microsoft.ML.Transforms.TimeSeries\n",
    "open XPlot.Plotly\n",
    "open XPlot.GoogleCharts\n",
    "open System.Collections.Generic"
   ]
  },
  {
   "cell_type": "code",
   "execution_count": null,
   "metadata": {
    "dotnet_interactive": {
     "language": "fsharp"
    }
   },
   "outputs": [],
   "source": [
    "let ETL_FILEPATH = @\"C:\\Users\\mukun\\OneDrive\\Documents\\CallstackShmuff.etl\\CallstackShmuff.etl\" \n",
    "\n",
    "let session = new TraceEventSession(\"TestSession\", ETL_FILEPATH)\n",
    "\n",
    "let traceLog = TraceLog.OpenOrConvert(ETL_FILEPATH)"
   ]
  },
  {
   "cell_type": "code",
   "execution_count": null,
   "metadata": {
    "dotnet_interactive": {
     "language": "fsharp"
    }
   },
   "outputs": [],
   "source": [
    "type Input() =\n",
    "    [<DefaultValue>]\n",
    "    [<LoadColumn(0)>]\n",
    "    val mutable public timestamp : double \n",
    "\n",
    "    [<DefaultValue>]\n",
    "    [<LoadColumn(1)>]\n",
    "    val mutable public value : float32\n",
    "\n",
    "type Prediction() = \n",
    "    [<DefaultValue>]\n",
    "    [<VectorType(3)>]\n",
    "    val mutable public Prediction : double[]"
   ]
  },
  {
   "cell_type": "code",
   "execution_count": null,
   "metadata": {
    "dotnet_interactive": {
     "language": "fsharp"
    }
   },
   "outputs": [
    {
     "data": {
      "text/html": [
       "<table><thead><tr><th><i>index</i></th><th>Item1</th><th>Item2</th></tr></thead><tbody><tr><td>0</td><td><div class=\"dni-plaintext\">1516.0816</div></td><td><div class=\"dni-plaintext\">108784</div></td></tr><tr><td>1</td><td><div class=\"dni-plaintext\">1516.652</div></td><td><div class=\"dni-plaintext\">105680</div></td></tr><tr><td>2</td><td><div class=\"dni-plaintext\">1710.3076</div></td><td><div class=\"dni-plaintext\">115224</div></td></tr><tr><td>3</td><td><div class=\"dni-plaintext\">2814.5199</div></td><td><div class=\"dni-plaintext\">115072</div></td></tr><tr><td>4</td><td><div class=\"dni-plaintext\">2818.3139</div></td><td><div class=\"dni-plaintext\">113992</div></td></tr></tbody></table>"
      ]
     },
     "metadata": {},
     "output_type": "display_data"
    }
   ],
   "source": [
    "let allocationAmountForDevenv =\n",
    "    traceLog.Events\n",
    "    |> Seq.filter(fun e -> e.ProcessName = \"devenv\" && e.EventName.Contains(\"GC/AllocationTick\"))\n",
    "    |> Seq.take 100\n",
    "    |> Seq.map(fun e -> Input(timestamp = e.TimeStampRelativeMSec, value = float32 (e.PayloadByName(\"AllocationAmount\").ToString())))\n",
    "\n",
    "let ctx = MLContext()\n",
    "\n",
    "let dataView = \n",
    "  ctx\n",
    "    .Data\n",
    "    .LoadFromEnumerable<Input>(allocationAmountForDevenv)\n",
    "      \n",
    "let anomalyPValueHistoryLength = 30\n",
    "let changePointPValueHistoryLength = 10\n",
    "let anomalyConfidence = 95\n",
    "let changePointConfidence = 95\n",
    "\n",
    "let anomalyPipeline =\n",
    "    ctx.Transforms.DetectIidSpike(\n",
    "      outputColumnName = \"Prediction\",\n",
    "      inputColumnName = \"value\",\n",
    "      side = AnomalySide.TwoSided,\n",
    "      confidence = anomalyConfidence, \n",
    "      pvalueHistoryLength = anomalyPValueHistoryLength)\n",
    "\n",
    "let trainedAnomalyModel = anomalyPipeline.Fit(ctx.Data.LoadFromEnumerable(List<Input>()))\n",
    "let transformedAnomalyData = trainedAnomalyModel.Transform(dataView)\n",
    "\n",
    "let anomalies = \n",
    "    ctx.Data.CreateEnumerable<Prediction>(transformedAnomalyData, reuseRowObject = false)\n",
    "\n",
    "let allocRate = \n",
    "    allocationAmountForDevenv\n",
    "    |> Seq.map(fun i -> double(i.timestamp), double(i.value))\n",
    "    |> Seq.toList\n",
    "\n",
    "let anomalyChartData = \n",
    "  anomalies\n",
    "  |> Seq.mapi(fun i p -> double(p.Prediction.[0]), double(p.Prediction.[1]), fst (allocRate.[i]))\n",
    "  |> Seq.toList\n",
    "\n",
    "let anomalyToChart = \n",
    "    anomalyChartData\n",
    "    |> List.filter(fun (x, b, c) -> x = 1.0)\n",
    "    |> List.map(fun (x, b, c) -> (c, b))\n",
    "\n",
    "display(anomalyToChart)\n",
    "\n",
    "[allocRate; anomalyToChart]\n",
    "|> Chart.Combo\n",
    "|> Chart.Show"
   ]
  },
  {
   "cell_type": "markdown",
   "metadata": {},
   "source": [
    "![Anomalies With Allocations](https://raw.githubusercontent.com/MokoSan/FSharpAdvent_2021/main/src/Prototypes/Images/AnomaliesWithAllocations.png)"
   ]
  },
  {
   "cell_type": "markdown",
   "metadata": {},
   "source": [
    "## Anomaly Detection Service"
   ]
  },
  {
   "cell_type": "markdown",
   "metadata": {},
   "source": [
    "### Fixed Size Queue for Windowing the Context"
   ]
  },
  {
   "cell_type": "code",
   "execution_count": null,
   "metadata": {
    "dotnet_interactive": {
     "language": "fsharp"
    }
   },
   "outputs": [],
   "source": [
    "open System\n",
    "open System.Collections.Concurrent\n",
    "\n",
    "// Let's ignore thread safety for now?? Might bite me in the 4ss later..\n",
    "type FixedSizedQueueForTraceEvents<'T>(capacity : int) =\n",
    "    let queue = ConcurrentQueue<'T>()\n",
    "\n",
    "    member this.Capacity : int = capacity\n",
    "    member this.Count    : int = deque.Count\n",
    "    member this.Print() : unit = \n",
    "        let stringRepr : string = String.Join(\",\", queue)\n",
    "        printfn \"%A\" stringRepr\n",
    "\n",
    "    member this.Insert (item : 'T) : unit = \n",
    "        // If we are at capacity, evict the first item.\n",
    "        if queue.Count = capacity then \n",
    "            queue.TryDequeue() |> ignore\n",
    "            \n",
    "        // Enqueue the new item to the list.\n",
    "        queue.Enqueue(item)\n",
    "\n",
    "    member this.GetAll() : seq<'T> = \n",
    "        queue"
   ]
  },
  {
   "cell_type": "code",
   "execution_count": null,
   "metadata": {
    "dotnet_interactive": {
     "language": "fsharp"
    }
   },
   "outputs": [
    {
     "name": "stdout",
     "output_type": "stream",
     "text": [
      "\"\"\r\n",
      "\"(1, 1),(2, 2),(3, 3)\"\r\n",
      "\"(2, 2),(3, 3),(4, 4)\"\r\n"
     ]
    }
   ],
   "source": [
    "let queue = FixedSizedQueueForTraceEvents<(double * double)>(3)\n",
    "queue.Print()\n",
    "queue.Insert(( 1., 1. ))\n",
    "queue.Insert(( 2., 2. ))\n",
    "queue.Insert(( 3., 3. ))\n",
    "queue.Print()\n",
    "queue.Insert(( 4., 4. ))\n",
    "queue.Print()"
   ]
  },
  {
   "cell_type": "markdown",
   "metadata": {},
   "source": []
  }
 ],
 "metadata": {
  "kernelspec": {
   "display_name": ".NET (F#)",
   "language": "F#",
   "name": ".net-fsharp"
  },
  "language_info": {
   "name": "F#"
  }
 },
 "nbformat": 4,
 "nbformat_minor": 2
}
