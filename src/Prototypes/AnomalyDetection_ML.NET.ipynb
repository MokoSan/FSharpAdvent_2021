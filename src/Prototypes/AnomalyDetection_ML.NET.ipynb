{
 "cells": [
  {
   "cell_type": "markdown",
   "metadata": {
    "dotnet_interactive": {
     "language": "fsharp"
    }
   },
   "source": [
    "# ML.NET Anomaly Detection "
   ]
  },
  {
   "cell_type": "code",
   "execution_count": null,
   "metadata": {
    "dotnet_interactive": {
     "language": "fsharp"
    }
   },
   "outputs": [
    {
     "data": {
      "text/html": [
       "<div><div></div><div></div><div></div></div>"
      ]
     },
     "metadata": {},
     "output_type": "display_data"
    },
    {
     "ename": "Error",
     "evalue": "C:\\Users\\mukun\\AppData\\Local\\Temp\\nuget\\8392--66c6a0ec-4cf5-487f-8c4e-59db95f054d6\\Project.fsproj : error NU1101: Unable to find package ML.NET. No packages exist with this id in source(s): Microsoft Visual Studio Offline Packages, nuget.org",
     "output_type": "error",
     "traceback": [
      "C:\\Users\\mukun\\AppData\\Local\\Temp\\nuget\\8392--66c6a0ec-4cf5-487f-8c4e-59db95f054d6\\Project.fsproj : error NU1101: Unable to find package ML.NET. No packages exist with this id in source(s): Microsoft Visual Studio Offline Packages, nuget.org"
     ]
    }
   ],
   "source": [
    "#r \"nuget:Microsoft.ML\"\n",
    "#r \"nuget:XPlot.Plotly\"\n",
    "#r \"nuget:XPlot.GoogleCharts\""
   ]
  }
 ],
 "metadata": {
  "kernelspec": {
   "display_name": ".NET (F#)",
   "language": "F#",
   "name": ".net-fsharp"
  },
  "language_info": {
   "name": "F#"
  }
 },
 "nbformat": 4,
 "nbformat_minor": 2
}
