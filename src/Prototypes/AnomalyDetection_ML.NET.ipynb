{
 "cells": [
  {
   "cell_type": "markdown",
   "metadata": {
    "dotnet_interactive": {
     "language": "fsharp"
    }
   },
   "source": [
    "# ML.NET Anomaly Detection "
   ]
  },
  {
   "cell_type": "code",
   "execution_count": null,
   "metadata": {
    "dotnet_interactive": {
     "language": "fsharp"
    }
   },
   "outputs": [
    {
     "data": {
      "text/html": [
       "<div><div></div><div></div><div><strong>Installed Packages</strong><ul><li><span>Microsoft.ML, 1.7.0</span></li><li><span>Microsoft.ML.TimeSeries, 1.7.0</span></li><li><span>XPlot.GoogleCharts, 3.0.1</span></li><li><span>XPlot.Plotly, 4.0.6</span></li></ul></div></div>"
      ]
     },
     "metadata": {},
     "output_type": "display_data"
    }
   ],
   "source": [
    "#r \"nuget:Microsoft.ML\"\n",
    "#r \"nuget:Microsoft.ML.TimeSeries\"\n",
    "#r \"nuget:XPlot.Plotly\"\n",
    "#r \"nuget:XPlot.GoogleCharts\""
   ]
  },
  {
   "cell_type": "code",
   "execution_count": null,
   "metadata": {
    "dotnet_interactive": {
     "language": "fsharp"
    }
   },
   "outputs": [],
   "source": [
    "open Microsoft.ML\n",
    "open Microsoft.ML.Data\n",
    "open Microsoft.ML.Transforms.TimeSeries\n",
    "open System.IO\n",
    "open System.Linq\n",
    "open System.Collections.Generic"
   ]
  },
  {
   "cell_type": "markdown",
   "metadata": {},
   "source": [
    "## Following The Tutorial From [Here](https://docs.microsoft.com/en-us/dotnet/machine-learning/tutorials/sales-anomaly-detection)"
   ]
  },
  {
   "cell_type": "code",
   "execution_count": null,
   "metadata": {
    "dotnet_interactive": {
     "language": "fsharp"
    }
   },
   "outputs": [],
   "source": [
    "type ProductSalesData() =\n",
    "    [<DefaultValue>]\n",
    "    [<LoadColumn(0)>]\n",
    "    val mutable public Month : string\n",
    "\n",
    "    [<DefaultValue>]\n",
    "    [<LoadColumn(1)>]\n",
    "    val mutable public numSales : float32\n",
    "\n",
    "type ProductSalesPrediction() = \n",
    "    [<DefaultValue>]\n",
    "    [<VectorType(3)>]\n",
    "    val mutable public Prediction : double[]\n",
    "\n",
    "let dataPath : string = Path.Combine( __SOURCE_DIRECTORY__, \"Data\", \"product-sales.csv\")\n",
    "let docSize : int = 36"
   ]
  },
  {
   "cell_type": "code",
   "execution_count": null,
   "metadata": {
    "dotnet_interactive": {
     "language": "fsharp"
    }
   },
   "outputs": [],
   "source": [
    "let ctx = MLContext()\n",
    "\n",
    "let dataView = \n",
    "  ctx\n",
    "    .Data\n",
    "    .LoadFromTextFile<ProductSalesData>(\n",
    "      path = dataPath,\n",
    "      hasHeader = true,\n",
    "      separatorChar = ',')\n",
    "\n",
    "let anomalyPValueHistoryLength = 30\n",
    "let changePointPValueHistoryLength = 10\n",
    "let anomalyConfidence = 95\n",
    "let changePointConfidence = 95\n",
    "\n",
    "let anomalyPipeline =\n",
    "    ctx.Transforms.DetectIidSpike(\n",
    "      outputColumnName = \"Prediction\",\n",
    "      inputColumnName = \"numSales\",\n",
    "      side = AnomalySide.TwoSided,\n",
    "      confidence = anomalyConfidence, \n",
    "      pvalueHistoryLength = anomalyPValueHistoryLength)\n",
    "\n",
    "let trainedAnomalyModel = anomalyPipeline.Fit(dataView)\n",
    "let transformedAnomalyData = trainedAnomalyModel.Transform(dataView);\n",
    "\n",
    "let anomalies = \n",
    "    ctx.Data.CreateEnumerable<ProductSalesPrediction>(transformedAnomalyData, reuseRowObject = false)\n",
    "\n",
    "let anomalyChartData = \n",
    "  anomalies\n",
    "  |> Seq.map (fun p -> (p.Prediction.[0], p.Prediction.[1]))\n",
    "  |> List.ofSeq "
   ]
  },
  {
   "cell_type": "code",
   "execution_count": null,
   "metadata": {
    "dotnet_interactive": {
     "language": "fsharp"
    }
   },
   "outputs": [
    {
     "data": {
      "text/html": [
       "<table><thead><tr><th><i>index</i></th><th>Item1</th><th>Item2</th></tr></thead><tbody><tr><td>0</td><td><div class=\"dni-plaintext\">0</div></td><td><div class=\"dni-plaintext\">271</div></td></tr><tr><td>1</td><td><div class=\"dni-plaintext\">0</div></td><td><div class=\"dni-plaintext\">150.89999389648438</div></td></tr><tr><td>2</td><td><div class=\"dni-plaintext\">0</div></td><td><div class=\"dni-plaintext\">188.10000610351562</div></td></tr><tr><td>3</td><td><div class=\"dni-plaintext\">0</div></td><td><div class=\"dni-plaintext\">124.30000305175781</div></td></tr><tr><td>4</td><td><div class=\"dni-plaintext\">0</div></td><td><div class=\"dni-plaintext\">185.3000030517578</div></td></tr><tr><td>5</td><td><div class=\"dni-plaintext\">0</div></td><td><div class=\"dni-plaintext\">173.5</div></td></tr><tr><td>6</td><td><div class=\"dni-plaintext\">0</div></td><td><div class=\"dni-plaintext\">236.8000030517578</div></td></tr><tr><td>7</td><td><div class=\"dni-plaintext\">0</div></td><td><div class=\"dni-plaintext\">229.5</div></td></tr><tr><td>8</td><td><div class=\"dni-plaintext\">0</div></td><td><div class=\"dni-plaintext\">197.8000030517578</div></td></tr><tr><td>9</td><td><div class=\"dni-plaintext\">0</div></td><td><div class=\"dni-plaintext\">127.9000015258789</div></td></tr><tr><td>10</td><td><div class=\"dni-plaintext\">0</div></td><td><div class=\"dni-plaintext\">341.5</div></td></tr><tr><td>11</td><td><div class=\"dni-plaintext\">0</div></td><td><div class=\"dni-plaintext\">190.89999389648438</div></td></tr><tr><td>12</td><td><div class=\"dni-plaintext\">0</div></td><td><div class=\"dni-plaintext\">199.3000030517578</div></td></tr><tr><td>13</td><td><div class=\"dni-plaintext\">0</div></td><td><div class=\"dni-plaintext\">154.5</div></td></tr><tr><td>14</td><td><div class=\"dni-plaintext\">0</div></td><td><div class=\"dni-plaintext\">215.10000610351562</div></td></tr><tr><td>15</td><td><div class=\"dni-plaintext\">0</div></td><td><div class=\"dni-plaintext\">278.29998779296875</div></td></tr><tr><td>16</td><td><div class=\"dni-plaintext\">0</div></td><td><div class=\"dni-plaintext\">196.39999389648438</div></td></tr><tr><td>17</td><td><div class=\"dni-plaintext\">0</div></td><td><div class=\"dni-plaintext\">292</div></td></tr><tr><td>18</td><td><div class=\"dni-plaintext\">0</div></td><td><div class=\"dni-plaintext\">231</div></td></tr><tr><td>19</td><td><div class=\"dni-plaintext\">0</div></td><td><div class=\"dni-plaintext\">308.6000061035156</div></td></tr><tr><td colspan=\"3\"><i>... (more)</i></td></tr></tbody></table>"
      ]
     },
     "metadata": {},
     "output_type": "display_data"
    }
   ],
   "source": [
    "display(anomalyChartData)"
   ]
  }
 ],
 "metadata": {
  "kernelspec": {
   "display_name": ".NET (F#)",
   "language": "F#",
   "name": ".net-fsharp"
  },
  "language_info": {
   "name": "F#"
  }
 },
 "nbformat": 4,
 "nbformat_minor": 2
}
