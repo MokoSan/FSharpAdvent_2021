{
 "cells": [
  {
   "cell_type": "markdown",
   "metadata": {
    "dotnet_interactive": {
     "language": "fsharp"
    }
   },
   "source": [
    "# Prototyping Trace Log API "
   ]
  },
  {
   "cell_type": "code",
   "execution_count": null,
   "metadata": {
    "dotnet_interactive": {
     "language": "fsharp"
    }
   },
   "outputs": [
    {
     "data": {
      "text/html": [
       "<div><div></div><div></div><div><strong>Installed Packages</strong><ul><li><span>Microsoft.Diagnostics.Tracing.TraceEvent, 2.0.74</span></li><li><span>XPlot.GoogleCharts, 3.0.1</span></li><li><span>XPlot.Plotly, 4.0.6</span></li></ul></div></div>"
      ]
     },
     "metadata": {},
     "output_type": "display_data"
    }
   ],
   "source": [
    "#r \"nuget:Microsoft.Diagnostics.Tracing.TraceEvent\"\n",
    "#r \"nuget:XPlot.Plotly\"\n",
    "#r \"nuget:XPlot.GoogleCharts\""
   ]
  },
  {
   "cell_type": "code",
   "execution_count": null,
   "metadata": {
    "dotnet_interactive": {
     "language": "fsharp"
    }
   },
   "outputs": [],
   "source": [
    "// Open all the libraries.\n",
    "open Microsoft.Diagnostics.Tracing;\n",
    "open Microsoft.Diagnostics.Tracing.Etlx;\n",
    "open Microsoft.Diagnostics.Tracing.Session;\n",
    "open Microsoft.Diagnostics.Tracing.Parsers.Clr;\n",
    "\n",
    "open XPlot.Plotly;\n",
    "open XPlot.GoogleCharts;\n"
   ]
  },
  {
   "cell_type": "code",
   "execution_count": null,
   "metadata": {
    "dotnet_interactive": {
     "language": "fsharp"
    }
   },
   "outputs": [],
   "source": [
    "let etlFilePath =  @\"C:\\Users\\mukun\\OneDrive\\Documents\\CallstackShmuff.etl\\CallstackShmuff.etl\"\n",
    "let session = new TraceEventSession(\"TestSession\", etlFilePath)\n",
    "\n",
    "let traceLog = TraceLog.OpenOrConvert(etlFilePath)\n",
    "\n",
    "let allocationAmountForDevenv =\n",
    "    traceLog.Events\n",
    "    |> Seq.filter(fun e -> e.ProcessName = \"devenv\" && e.EventName.Contains(\"GC/AllocationTick\"))\n",
    "    |> Seq.take 100\n",
    "    |> Seq.map(fun e -> (e.TimeStampRelativeMSec, float(e.PayloadByName(\"AllocationAmount\").ToString())))\n",
    "\n",
    "let chart = \n",
    "    let options = Options( title = \"Allocation Amount Over Time\", \n",
    "                           vAxes = [| Axis(title = \"Allocation Amount\"); Axis(title = \"Timestamp\"); |] )\n",
    "\n",
    "    allocationAmountForDevenv\n",
    "    |> Chart.Line\n",
    "    |> Chart.WithOptions options\n",
    "    |> Chart.Show"
   ]
  }
 ],
 "metadata": {
  "kernelspec": {
   "display_name": ".NET (F#)",
   "language": "F#",
   "name": ".net-fsharp"
  },
  "language_info": {
   "name": "F#"
  }
 },
 "nbformat": 4,
 "nbformat_minor": 2
}
