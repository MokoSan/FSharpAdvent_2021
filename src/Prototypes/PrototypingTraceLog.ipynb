{
 "cells": [
  {
   "cell_type": "markdown",
   "metadata": {
    "dotnet_interactive": {
     "language": "fsharp"
    }
   },
   "source": [
    "# Prototyping Trace Log API "
   ]
  },
  {
   "cell_type": "code",
   "execution_count": null,
   "metadata": {
    "dotnet_interactive": {
     "language": "fsharp"
    }
   },
   "outputs": [
    {
     "data": {
      "text/html": [
       "<div><div></div><div></div><div><strong>Installed Packages</strong><ul><li><span>Microsoft.Diagnostics.Tracing.TraceEvent, 2.0.74</span></li><li><span>XPlot.GoogleCharts, 3.0.1</span></li><li><span>XPlot.Plotly, 4.0.6</span></li></ul></div></div>"
      ]
     },
     "metadata": {},
     "output_type": "display_data"
    }
   ],
   "source": [
    "#r \"nuget:Microsoft.Diagnostics.Tracing.TraceEvent\"\n",
    "#r \"nuget:XPlot.Plotly\"\n",
    "#r \"nuget:XPlot.GoogleCharts\""
   ]
  },
  {
   "cell_type": "code",
   "execution_count": null,
   "metadata": {
    "dotnet_interactive": {
     "language": "fsharp"
    }
   },
   "outputs": [],
   "source": [
    "// Open all the libraries.\n",
    "open Microsoft.Diagnostics.Tracing;\n",
    "open Microsoft.Diagnostics.Tracing.Etlx;\n",
    "open Microsoft.Diagnostics.Tracing.Session;\n",
    "open Microsoft.Diagnostics.Tracing.Parsers.Clr;\n",
    "\n",
    "open XPlot.Plotly;\n",
    "open XPlot.GoogleCharts;"
   ]
  },
  {
   "cell_type": "code",
   "execution_count": null,
   "metadata": {
    "dotnet_interactive": {
     "language": "fsharp"
    }
   },
   "outputs": [],
   "source": [
    "let ETL_FILEPATH = @\"C:\\Users\\mukun\\OneDrive\\Documents\\CallstackShmuff.etl\\CallstackShmuff.etl\" "
   ]
  },
  {
   "cell_type": "markdown",
   "metadata": {},
   "source": [
    "## Charting Allocation Events Using Trace Log"
   ]
  },
  {
   "cell_type": "code",
   "execution_count": null,
   "metadata": {
    "dotnet_interactive": {
     "language": "fsharp"
    }
   },
   "outputs": [],
   "source": [
    "let session = new TraceEventSession(\"TestSession\", ETL_FILEPATH)\n",
    "\n",
    "let traceLog = TraceLog.OpenOrConvert(ETL_FILEPATH)\n",
    "\n",
    "let allocationAmountForDevenv =\n",
    "    traceLog.Events\n",
    "    |> Seq.filter(fun e -> e.ProcessName = \"devenv\" && e.EventName.Contains(\"GC/AllocationTick\"))\n",
    "    |> Seq.take 100\n",
    "    |> Seq.map(fun e -> (e.TimeStampRelativeMSec, float(e.PayloadByName(\"AllocationAmount\").ToString())))\n",
    "\n",
    "let chart = \n",
    "    let options = Options( title = \"Allocation Amount Over Time\", \n",
    "                           vAxes = [| Axis(title = \"Allocation Amount\"); Axis(title = \"Timestamp\"); |] )\n",
    "\n",
    "    allocationAmountForDevenv\n",
    "    |> Chart.Line\n",
    "    |> Chart.WithOptions options\n",
    "    |> Chart.Show"
   ]
  },
  {
   "cell_type": "markdown",
   "metadata": {},
   "source": [
    "## Call Stack Collection Using Trace Log"
   ]
  },
  {
   "cell_type": "code",
   "execution_count": null,
   "metadata": {
    "dotnet_interactive": {
     "language": "fsharp"
    }
   },
   "outputs": [],
   "source": [
    "open Microsoft.Diagnostics.Symbols;\n",
    "open Microsoft.Diagnostics.Tracing;\n",
    "open Microsoft.Diagnostics.Tracing.Etlx;\n",
    "open Microsoft.Diagnostics.Tracing.Parsers;"
   ]
  },
  {
   "cell_type": "code",
   "execution_count": null,
   "metadata": {
    "dotnet_interactive": {
     "language": "fsharp"
    }
   },
   "outputs": [],
   "source": [
    "let session = new TraceEventSession(\"TestSession\", ETL_FILEPATH)\n",
    "\n",
    "let traceLog = TraceLog.OpenOrConvert(ETL_FILEPATH)\n",
    "\n",
    "let loadSymbols : unit = \n",
    "    use symbolReader = new SymbolReader(TextWriter.Null, SymbolPath.SymbolPathFromEnvironment)\n",
    "    traceLog.Processes\n",
    "    |> Seq.filter(fun p -> p.Name = \"GCRealTimeMon.exe\")\n",
    "    |> Seq.iter(fun proc -> ( \n",
    "        proc.LoadedModules |> Seq.where (fun m -> not (isNull m.ModuleFile))\n",
    "                        |> Seq.iter (fun m -> traceLog.CodeAddresses.LookupSymbolsForModule(symbolReader, m.ModuleFile))\n",
    "\n",
    "    ))"
   ]
  },
  {
   "cell_type": "code",
   "execution_count": null,
   "metadata": {
    "dotnet_interactive": {
     "language": "fsharp"
    }
   },
   "outputs": [
    {
     "ename": "Error",
     "evalue": "input.fsx (7,17)-(7,27) typecheck error Type mismatch. Expecting a\n    'string -> string -> unit'    \nbut given a\n    'string -> string -> string -> unit'    \nThe type 'unit' does not match the type 'string -> unit'",
     "output_type": "error",
     "traceback": [
      "input.fsx (7,17)-(7,27) typecheck error Type mismatch. Expecting a\n",
      "    'string -> string -> unit'    \n",
      "but given a\n",
      "    'string -> string -> string -> unit'    \n",
      "The type 'unit' does not match the type 'string -> unit'"
     ]
    }
   ],
   "source": [
    " let processCallStack (callStack : TraceCallStack) : unit =\n",
    "\n",
    "    use symbolReader = new SymbolReader(TextWriter.Null, SymbolPath.SymbolPathFromEnvironment)\n",
    "\n",
    "    let printStackFrame (callStack : TraceCallStack) : unit =\n",
    "        traceLog.CodeAddresses.LookupSymbolsForModule(symbolReader, callStack.CodeAddress.ModuleFile)\n",
    "        printfn \"%s!%s#%s\" callStack.CodeAddress.ModuleName callStack.CodeAddress.FullMethodName (callStack.CodeAddress.GetSourceLine(symbolReader).LineNumber.ToString())\n",
    "\n",
    "    let rec processFrame (callStack : TraceCallStack) : unit =\n",
    "        if isNull callStack then\n",
    "            ()\n",
    "        else\n",
    "            printStackFrame callStack\n",
    "            processFrame callStack.Caller\n",
    "\n",
    "    processFrame callStack\n",
    "\n",
    "let printGCAllocStacksForGCRealTimeMon : unit =\n",
    "    traceLog.Events\n",
    "    |> Seq.filter(fun e -> e.ProcessName = \"GCRealTimeMon\" && e.EventName = \"GC/AllocationTick\")\n",
    "    |> Seq.take 1 \n",
    "    |> Seq.iter(fun e ->( \n",
    "            printfn \"\\n\"; processCallStack (e.CallStack())))"
   ]
  }
 ],
 "metadata": {
  "kernelspec": {
   "display_name": ".NET (F#)",
   "language": "F#",
   "name": ".net-fsharp"
  },
  "language_info": {
   "name": "F#"
  }
 },
 "nbformat": 4,
 "nbformat_minor": 2
}
